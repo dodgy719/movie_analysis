{
 "cells": [
  {
   "cell_type": "code",
   "execution_count": 1,
   "metadata": {
    "ExecuteTime": {
     "end_time": "2021-04-30T18:05:57.035788Z",
     "start_time": "2021-04-30T18:05:51.560649Z"
    }
   },
   "outputs": [],
   "source": [
    "#necessary imports\n",
    "\n",
    "import sqlite3\n",
    "import os\n",
    "import pandas as pd\n",
    "import numpy as np\n",
    "import matplotlib.pyplot as plt\n",
    "import seaborn as sns\n",
    "from glob import glob"
   ]
  },
  {
   "cell_type": "code",
   "execution_count": 2,
   "metadata": {
    "ExecuteTime": {
     "end_time": "2021-04-30T18:05:57.046672Z",
     "start_time": "2021-04-30T18:05:57.038111Z"
    }
   },
   "outputs": [
    {
     "data": {
      "text/plain": [
       "['./zippedData/imdb.title.crew.csv.gz',\n",
       " './zippedData/tmdb.movies.csv.gz',\n",
       " './zippedData/imdb.title.akas.csv.gz',\n",
       " './zippedData/imdb.title.ratings.csv.gz',\n",
       " './zippedData/imdb.name.basics.csv.gz',\n",
       " './zippedData/imdb.title.basics.csv.gz',\n",
       " './zippedData/tn.movie_budgets.csv.gz',\n",
       " './zippedData/bom.movie_gross.csv.gz',\n",
       " './zippedData/imdb.title.principals.csv.gz']"
      ]
     },
     "execution_count": 2,
     "metadata": {},
     "output_type": "execute_result"
    }
   ],
   "source": [
    "#importing data using glob\n",
    "\n",
    "csv_files = glob(\"./zippedData/*.csv.gz\")\n",
    "csv_files"
   ]
  },
  {
   "cell_type": "code",
   "execution_count": 3,
   "metadata": {
    "ExecuteTime": {
     "end_time": "2021-04-30T18:06:02.051281Z",
     "start_time": "2021-04-30T18:05:57.051103Z"
    }
   },
   "outputs": [],
   "source": [
    "csv_files_dict = {}\n",
    "for filename in csv_files:\n",
    "    filename_cleaned = os.path.basename(filename).replace(\".csv\", \"\").replace(\".\", \"_\") # cleaning the filenames\n",
    "    filename_df = pd.read_csv(filename, index_col=0)\n",
    "    csv_files_dict[filename_cleaned] = filename_df"
   ]
  },
  {
   "cell_type": "markdown",
   "metadata": {},
   "source": [
    "# Question 1: What are the top 5 grossing films?"
   ]
  },
  {
   "cell_type": "markdown",
   "metadata": {},
   "source": [
    "Exploring the top grossing films will enable me to find if there is anything in common between them and allow me to draw conclusions about what things enable a movie to perform well at the box office\n",
    "\n",
    "For this analysis, I will be using the **tn_movie_budgets** file"
   ]
  },
  {
   "cell_type": "code",
   "execution_count": 4,
   "metadata": {
    "ExecuteTime": {
     "end_time": "2021-04-30T18:06:02.056199Z",
     "start_time": "2021-04-30T18:06:02.053576Z"
    }
   },
   "outputs": [],
   "source": [
    "movie_budgets_df = csv_files_dict['tn_movie_budgets_gz']"
   ]
  },
  {
   "cell_type": "code",
   "execution_count": 5,
   "metadata": {
    "ExecuteTime": {
     "end_time": "2021-04-30T18:06:02.070598Z",
     "start_time": "2021-04-30T18:06:02.058035Z"
    }
   },
   "outputs": [
    {
     "data": {
      "text/plain": [
       "pandas.core.frame.DataFrame"
      ]
     },
     "execution_count": 5,
     "metadata": {},
     "output_type": "execute_result"
    }
   ],
   "source": [
    "type(movie_budgets_df)"
   ]
  },
  {
   "cell_type": "code",
   "execution_count": 6,
   "metadata": {
    "ExecuteTime": {
     "end_time": "2021-04-30T18:06:02.076726Z",
     "start_time": "2021-04-30T18:06:02.072678Z"
    }
   },
   "outputs": [
    {
     "data": {
      "text/plain": [
       "(5782, 5)"
      ]
     },
     "execution_count": 6,
     "metadata": {},
     "output_type": "execute_result"
    }
   ],
   "source": [
    "movie_budgets_df.shape"
   ]
  },
  {
   "cell_type": "code",
   "execution_count": 7,
   "metadata": {
    "ExecuteTime": {
     "end_time": "2021-04-30T18:06:02.092132Z",
     "start_time": "2021-04-30T18:06:02.079030Z"
    }
   },
   "outputs": [
    {
     "data": {
      "text/html": [
       "<div>\n",
       "<style scoped>\n",
       "    .dataframe tbody tr th:only-of-type {\n",
       "        vertical-align: middle;\n",
       "    }\n",
       "\n",
       "    .dataframe tbody tr th {\n",
       "        vertical-align: top;\n",
       "    }\n",
       "\n",
       "    .dataframe thead th {\n",
       "        text-align: right;\n",
       "    }\n",
       "</style>\n",
       "<table border=\"1\" class=\"dataframe\">\n",
       "  <thead>\n",
       "    <tr style=\"text-align: right;\">\n",
       "      <th></th>\n",
       "      <th>release_date</th>\n",
       "      <th>movie</th>\n",
       "      <th>production_budget</th>\n",
       "      <th>domestic_gross</th>\n",
       "      <th>worldwide_gross</th>\n",
       "    </tr>\n",
       "    <tr>\n",
       "      <th>id</th>\n",
       "      <th></th>\n",
       "      <th></th>\n",
       "      <th></th>\n",
       "      <th></th>\n",
       "      <th></th>\n",
       "    </tr>\n",
       "  </thead>\n",
       "  <tbody>\n",
       "    <tr>\n",
       "      <th>1</th>\n",
       "      <td>Dec 18, 2009</td>\n",
       "      <td>Avatar</td>\n",
       "      <td>$425,000,000</td>\n",
       "      <td>$760,507,625</td>\n",
       "      <td>$2,776,345,279</td>\n",
       "    </tr>\n",
       "    <tr>\n",
       "      <th>2</th>\n",
       "      <td>May 20, 2011</td>\n",
       "      <td>Pirates of the Caribbean: On Stranger Tides</td>\n",
       "      <td>$410,600,000</td>\n",
       "      <td>$241,063,875</td>\n",
       "      <td>$1,045,663,875</td>\n",
       "    </tr>\n",
       "    <tr>\n",
       "      <th>3</th>\n",
       "      <td>Jun 7, 2019</td>\n",
       "      <td>Dark Phoenix</td>\n",
       "      <td>$350,000,000</td>\n",
       "      <td>$42,762,350</td>\n",
       "      <td>$149,762,350</td>\n",
       "    </tr>\n",
       "    <tr>\n",
       "      <th>4</th>\n",
       "      <td>May 1, 2015</td>\n",
       "      <td>Avengers: Age of Ultron</td>\n",
       "      <td>$330,600,000</td>\n",
       "      <td>$459,005,868</td>\n",
       "      <td>$1,403,013,963</td>\n",
       "    </tr>\n",
       "    <tr>\n",
       "      <th>5</th>\n",
       "      <td>Dec 15, 2017</td>\n",
       "      <td>Star Wars Ep. VIII: The Last Jedi</td>\n",
       "      <td>$317,000,000</td>\n",
       "      <td>$620,181,382</td>\n",
       "      <td>$1,316,721,747</td>\n",
       "    </tr>\n",
       "  </tbody>\n",
       "</table>\n",
       "</div>"
      ],
      "text/plain": [
       "    release_date                                        movie  \\\n",
       "id                                                              \n",
       "1   Dec 18, 2009                                       Avatar   \n",
       "2   May 20, 2011  Pirates of the Caribbean: On Stranger Tides   \n",
       "3    Jun 7, 2019                                 Dark Phoenix   \n",
       "4    May 1, 2015                      Avengers: Age of Ultron   \n",
       "5   Dec 15, 2017            Star Wars Ep. VIII: The Last Jedi   \n",
       "\n",
       "   production_budget domestic_gross worldwide_gross  \n",
       "id                                                   \n",
       "1       $425,000,000   $760,507,625  $2,776,345,279  \n",
       "2       $410,600,000   $241,063,875  $1,045,663,875  \n",
       "3       $350,000,000    $42,762,350    $149,762,350  \n",
       "4       $330,600,000   $459,005,868  $1,403,013,963  \n",
       "5       $317,000,000   $620,181,382  $1,316,721,747  "
      ]
     },
     "execution_count": 7,
     "metadata": {},
     "output_type": "execute_result"
    }
   ],
   "source": [
    "movie_budgets_df.head()"
   ]
  },
  {
   "cell_type": "code",
   "execution_count": 8,
   "metadata": {
    "ExecuteTime": {
     "end_time": "2021-04-30T18:06:02.111559Z",
     "start_time": "2021-04-30T18:06:02.101006Z"
    }
   },
   "outputs": [
    {
     "name": "stdout",
     "output_type": "stream",
     "text": [
      "<class 'pandas.core.frame.DataFrame'>\n",
      "Int64Index: 5782 entries, 1 to 82\n",
      "Data columns (total 5 columns):\n",
      " #   Column             Non-Null Count  Dtype \n",
      "---  ------             --------------  ----- \n",
      " 0   release_date       5782 non-null   object\n",
      " 1   movie              5782 non-null   object\n",
      " 2   production_budget  5782 non-null   object\n",
      " 3   domestic_gross     5782 non-null   object\n",
      " 4   worldwide_gross    5782 non-null   object\n",
      "dtypes: object(5)\n",
      "memory usage: 271.0+ KB\n"
     ]
    }
   ],
   "source": [
    "movie_budgets_df.info()"
   ]
  },
  {
   "cell_type": "markdown",
   "metadata": {},
   "source": [
    "Important observations:\n",
    "\n",
    "1. release_date is an object -> possibly convert it to datetime format?\n",
    "2. all the budget and gross columns are objects -> no integer math possible directly"
   ]
  },
  {
   "cell_type": "markdown",
   "metadata": {},
   "source": [
    "## Data Cleaning"
   ]
  },
  {
   "cell_type": "markdown",
   "metadata": {},
   "source": [
    "### Checking null values and most common values"
   ]
  },
  {
   "cell_type": "code",
   "execution_count": 9,
   "metadata": {
    "ExecuteTime": {
     "end_time": "2021-04-30T18:06:02.123284Z",
     "start_time": "2021-04-30T18:06:02.114989Z"
    }
   },
   "outputs": [
    {
     "data": {
      "text/plain": [
       "release_date         0\n",
       "movie                0\n",
       "production_budget    0\n",
       "domestic_gross       0\n",
       "worldwide_gross      0\n",
       "dtype: int64"
      ]
     },
     "execution_count": 9,
     "metadata": {},
     "output_type": "execute_result"
    }
   ],
   "source": [
    "movie_budgets_df.isna().sum()"
   ]
  },
  {
   "cell_type": "markdown",
   "metadata": {},
   "source": [
    "The columns of production_budget, domestic_gross and worldwide_gross seem to contain numbers but their datatype is object. Also at first glance there don't seem to be any missing values"
   ]
  },
  {
   "cell_type": "code",
   "execution_count": 10,
   "metadata": {
    "ExecuteTime": {
     "end_time": "2021-04-30T18:06:02.202839Z",
     "start_time": "2021-04-30T18:06:02.131392Z"
    }
   },
   "outputs": [
    {
     "name": "stdout",
     "output_type": "stream",
     "text": [
      "release_date\n",
      "Dec 31, 2014    0.004151\n",
      "Dec 31, 2015    0.003978\n",
      "Dec 31, 2010    0.002594\n",
      "Dec 31, 2008    0.002421\n",
      "Dec 31, 2009    0.002248\n",
      "Name: release_date, dtype: float64\n",
      "==============================================\n",
      "movie\n",
      "Halloween                   0.000519\n",
      "King Kong                   0.000519\n",
      "Home                        0.000519\n",
      "Dawn of the Dead            0.000346\n",
      "Night of the Living Dead    0.000346\n",
      "Name: movie, dtype: float64\n",
      "==============================================\n",
      "production_budget\n",
      "$20,000,000    0.039952\n",
      "$10,000,000    0.036666\n",
      "$30,000,000    0.030612\n",
      "$15,000,000    0.029920\n",
      "$25,000,000    0.029575\n",
      "Name: production_budget, dtype: float64\n",
      "==============================================\n",
      "domestic_gross\n",
      "$0             0.094777\n",
      "$8,000,000     0.001557\n",
      "$2,000,000     0.001211\n",
      "$7,000,000     0.001211\n",
      "$10,000,000    0.001038\n",
      "Name: domestic_gross, dtype: float64\n",
      "==============================================\n",
      "worldwide_gross\n",
      "$0            0.063473\n",
      "$8,000,000    0.001557\n",
      "$7,000,000    0.001038\n",
      "$2,000,000    0.001038\n",
      "$4,000,000    0.000692\n",
      "Name: worldwide_gross, dtype: float64\n",
      "==============================================\n"
     ]
    }
   ],
   "source": [
    "for col in movie_budgets_df:\n",
    "    print(col)\n",
    "    print(movie_budgets_df[col].value_counts(normalize = True)[:5])\n",
    "    print(\"==============================================\")"
   ]
  },
  {
   "cell_type": "markdown",
   "metadata": {},
   "source": [
    "It seems there are 9.4% movies for which we either don't have the domestic gross information or they never released, similar thing for 6.3% of worldwide gross information\n",
    "\n",
    "Need to figure out if the worldwide gross includes the domestic gross figure\n",
    "\n",
    "I will need to sort the data to get the highest grossing films"
   ]
  },
  {
   "cell_type": "markdown",
   "metadata": {},
   "source": [
    "### Dealing with datatypes"
   ]
  },
  {
   "cell_type": "code",
   "execution_count": 11,
   "metadata": {
    "ExecuteTime": {
     "end_time": "2021-04-30T18:06:02.212098Z",
     "start_time": "2021-04-30T18:06:02.207833Z"
    }
   },
   "outputs": [],
   "source": [
    "#changing dtype of columns\n",
    "#we want to change the types of 3 columns. Good idea to write a function for this\n",
    "\n",
    "def convert_amt_to_int(df, col):\n",
    "    df[col] = df[col].str.replace(\"$\", \"\").str.replace(\",\", \"\").astype('int')\n",
    "    return df"
   ]
  },
  {
   "cell_type": "code",
   "execution_count": 12,
   "metadata": {
    "ExecuteTime": {
     "end_time": "2021-04-30T18:06:02.250226Z",
     "start_time": "2021-04-30T18:06:02.214748Z"
    }
   },
   "outputs": [],
   "source": [
    "#making a list of all the cols where we want to change the dtype \n",
    "\n",
    "money_cols = ['production_budget', 'domestic_gross', 'worldwide_gross']\n",
    "\n",
    "for col in money_cols:\n",
    "    movie_budgets_df = convert_amt_to_int(movie_budgets_df, col)"
   ]
  },
  {
   "cell_type": "code",
   "execution_count": 13,
   "metadata": {
    "ExecuteTime": {
     "end_time": "2021-04-30T18:06:02.267727Z",
     "start_time": "2021-04-30T18:06:02.252406Z"
    }
   },
   "outputs": [
    {
     "name": "stdout",
     "output_type": "stream",
     "text": [
      "<class 'pandas.core.frame.DataFrame'>\n",
      "Int64Index: 5782 entries, 1 to 82\n",
      "Data columns (total 5 columns):\n",
      " #   Column             Non-Null Count  Dtype \n",
      "---  ------             --------------  ----- \n",
      " 0   release_date       5782 non-null   object\n",
      " 1   movie              5782 non-null   object\n",
      " 2   production_budget  5782 non-null   int64 \n",
      " 3   domestic_gross     5782 non-null   int64 \n",
      " 4   worldwide_gross    5782 non-null   int64 \n",
      "dtypes: int64(3), object(2)\n",
      "memory usage: 271.0+ KB\n"
     ]
    }
   ],
   "source": [
    "movie_budgets_df.info()"
   ]
  },
  {
   "cell_type": "code",
   "execution_count": 14,
   "metadata": {
    "ExecuteTime": {
     "end_time": "2021-04-30T18:06:02.280174Z",
     "start_time": "2021-04-30T18:06:02.270290Z"
    }
   },
   "outputs": [
    {
     "data": {
      "text/html": [
       "<div>\n",
       "<style scoped>\n",
       "    .dataframe tbody tr th:only-of-type {\n",
       "        vertical-align: middle;\n",
       "    }\n",
       "\n",
       "    .dataframe tbody tr th {\n",
       "        vertical-align: top;\n",
       "    }\n",
       "\n",
       "    .dataframe thead th {\n",
       "        text-align: right;\n",
       "    }\n",
       "</style>\n",
       "<table border=\"1\" class=\"dataframe\">\n",
       "  <thead>\n",
       "    <tr style=\"text-align: right;\">\n",
       "      <th></th>\n",
       "      <th>release_date</th>\n",
       "      <th>movie</th>\n",
       "      <th>production_budget</th>\n",
       "      <th>domestic_gross</th>\n",
       "      <th>worldwide_gross</th>\n",
       "    </tr>\n",
       "    <tr>\n",
       "      <th>id</th>\n",
       "      <th></th>\n",
       "      <th></th>\n",
       "      <th></th>\n",
       "      <th></th>\n",
       "      <th></th>\n",
       "    </tr>\n",
       "  </thead>\n",
       "  <tbody>\n",
       "    <tr>\n",
       "      <th>1</th>\n",
       "      <td>Dec 18, 2009</td>\n",
       "      <td>Avatar</td>\n",
       "      <td>425000000</td>\n",
       "      <td>760507625</td>\n",
       "      <td>2776345279</td>\n",
       "    </tr>\n",
       "    <tr>\n",
       "      <th>2</th>\n",
       "      <td>May 20, 2011</td>\n",
       "      <td>Pirates of the Caribbean: On Stranger Tides</td>\n",
       "      <td>410600000</td>\n",
       "      <td>241063875</td>\n",
       "      <td>1045663875</td>\n",
       "    </tr>\n",
       "    <tr>\n",
       "      <th>3</th>\n",
       "      <td>Jun 7, 2019</td>\n",
       "      <td>Dark Phoenix</td>\n",
       "      <td>350000000</td>\n",
       "      <td>42762350</td>\n",
       "      <td>149762350</td>\n",
       "    </tr>\n",
       "    <tr>\n",
       "      <th>4</th>\n",
       "      <td>May 1, 2015</td>\n",
       "      <td>Avengers: Age of Ultron</td>\n",
       "      <td>330600000</td>\n",
       "      <td>459005868</td>\n",
       "      <td>1403013963</td>\n",
       "    </tr>\n",
       "    <tr>\n",
       "      <th>5</th>\n",
       "      <td>Dec 15, 2017</td>\n",
       "      <td>Star Wars Ep. VIII: The Last Jedi</td>\n",
       "      <td>317000000</td>\n",
       "      <td>620181382</td>\n",
       "      <td>1316721747</td>\n",
       "    </tr>\n",
       "  </tbody>\n",
       "</table>\n",
       "</div>"
      ],
      "text/plain": [
       "    release_date                                        movie  \\\n",
       "id                                                              \n",
       "1   Dec 18, 2009                                       Avatar   \n",
       "2   May 20, 2011  Pirates of the Caribbean: On Stranger Tides   \n",
       "3    Jun 7, 2019                                 Dark Phoenix   \n",
       "4    May 1, 2015                      Avengers: Age of Ultron   \n",
       "5   Dec 15, 2017            Star Wars Ep. VIII: The Last Jedi   \n",
       "\n",
       "    production_budget  domestic_gross  worldwide_gross  \n",
       "id                                                      \n",
       "1           425000000       760507625       2776345279  \n",
       "2           410600000       241063875       1045663875  \n",
       "3           350000000        42762350        149762350  \n",
       "4           330600000       459005868       1403013963  \n",
       "5           317000000       620181382       1316721747  "
      ]
     },
     "execution_count": 14,
     "metadata": {},
     "output_type": "execute_result"
    }
   ],
   "source": [
    "movie_budgets_df.head()"
   ]
  },
  {
   "cell_type": "code",
   "execution_count": 15,
   "metadata": {
    "ExecuteTime": {
     "end_time": "2021-04-30T18:06:02.293042Z",
     "start_time": "2021-04-30T18:06:02.283292Z"
    }
   },
   "outputs": [
    {
     "data": {
      "text/plain": [
       "release_date         0\n",
       "movie                0\n",
       "production_budget    0\n",
       "domestic_gross       0\n",
       "worldwide_gross      0\n",
       "dtype: int64"
      ]
     },
     "execution_count": 15,
     "metadata": {},
     "output_type": "execute_result"
    }
   ],
   "source": [
    "#confirming no na values\n",
    "movie_budgets_df.isna().sum()"
   ]
  },
  {
   "cell_type": "markdown",
   "metadata": {},
   "source": [
    "#### Checking the value counts "
   ]
  },
  {
   "cell_type": "code",
   "execution_count": 16,
   "metadata": {
    "ExecuteTime": {
     "end_time": "2021-04-30T18:06:02.331729Z",
     "start_time": "2021-04-30T18:06:02.300219Z"
    }
   },
   "outputs": [
    {
     "name": "stdout",
     "output_type": "stream",
     "text": [
      "Viewing values in col: release_date\n",
      "Top 5 values:\n",
      "Dec 31, 2014    0.004151\n",
      "Dec 31, 2015    0.003978\n",
      "Dec 31, 2010    0.002594\n",
      "Dec 31, 2008    0.002421\n",
      "Dec 31, 2009    0.002248\n",
      "Name: release_date, dtype: float64\n",
      "-------------------\n",
      "Viewing values in col: movie\n",
      "Top 5 values:\n",
      "Halloween                   0.000519\n",
      "King Kong                   0.000519\n",
      "Home                        0.000519\n",
      "Dawn of the Dead            0.000346\n",
      "Night of the Living Dead    0.000346\n",
      "Name: movie, dtype: float64\n",
      "-------------------\n",
      "Viewing values in col: production_budget\n",
      "Top 5 values:\n",
      "20000000    0.039952\n",
      "10000000    0.036666\n",
      "30000000    0.030612\n",
      "15000000    0.029920\n",
      "25000000    0.029575\n",
      "Name: production_budget, dtype: float64\n",
      "-------------------\n",
      "Viewing values in col: domestic_gross\n",
      "Top 5 values:\n",
      "0           0.094777\n",
      "8000000     0.001557\n",
      "2000000     0.001211\n",
      "7000000     0.001211\n",
      "10000000    0.001038\n",
      "Name: domestic_gross, dtype: float64\n",
      "-------------------\n",
      "Viewing values in col: worldwide_gross\n",
      "Top 5 values:\n",
      "0          0.063473\n",
      "8000000    0.001557\n",
      "7000000    0.001038\n",
      "2000000    0.001038\n",
      "4000000    0.000692\n",
      "Name: worldwide_gross, dtype: float64\n",
      "-------------------\n"
     ]
    }
   ],
   "source": [
    "#looking at the most occuring values to see if there are any weird values\n",
    "for col in movie_budgets_df:\n",
    "    print(f'Viewing values in col: {col}')\n",
    "    print(f'Top 5 values:\\n{movie_budgets_df[col].value_counts(normalize = True)[:5]}')\n",
    "    print(\"-------------------\")"
   ]
  },
  {
   "cell_type": "markdown",
   "metadata": {},
   "source": [
    "Now that we know our dataframe has clean data, we can start working on the logic needed to get the top 5 grossing movies. As we have the production budget available, we can create a new column which will have the profits the movie has made."
   ]
  },
  {
   "cell_type": "code",
   "execution_count": 17,
   "metadata": {
    "ExecuteTime": {
     "end_time": "2021-04-30T18:06:02.347002Z",
     "start_time": "2021-04-30T18:06:02.334984Z"
    }
   },
   "outputs": [
    {
     "data": {
      "text/html": [
       "<div>\n",
       "<style scoped>\n",
       "    .dataframe tbody tr th:only-of-type {\n",
       "        vertical-align: middle;\n",
       "    }\n",
       "\n",
       "    .dataframe tbody tr th {\n",
       "        vertical-align: top;\n",
       "    }\n",
       "\n",
       "    .dataframe thead th {\n",
       "        text-align: right;\n",
       "    }\n",
       "</style>\n",
       "<table border=\"1\" class=\"dataframe\">\n",
       "  <thead>\n",
       "    <tr style=\"text-align: right;\">\n",
       "      <th></th>\n",
       "      <th>release_date</th>\n",
       "      <th>movie</th>\n",
       "      <th>production_budget</th>\n",
       "      <th>domestic_gross</th>\n",
       "      <th>worldwide_gross</th>\n",
       "      <th>budget_gross_diff</th>\n",
       "    </tr>\n",
       "    <tr>\n",
       "      <th>id</th>\n",
       "      <th></th>\n",
       "      <th></th>\n",
       "      <th></th>\n",
       "      <th></th>\n",
       "      <th></th>\n",
       "      <th></th>\n",
       "    </tr>\n",
       "  </thead>\n",
       "  <tbody>\n",
       "    <tr>\n",
       "      <th>1</th>\n",
       "      <td>Dec 18, 2009</td>\n",
       "      <td>Avatar</td>\n",
       "      <td>425000000</td>\n",
       "      <td>760507625</td>\n",
       "      <td>2776345279</td>\n",
       "      <td>2351345279</td>\n",
       "    </tr>\n",
       "    <tr>\n",
       "      <th>2</th>\n",
       "      <td>May 20, 2011</td>\n",
       "      <td>Pirates of the Caribbean: On Stranger Tides</td>\n",
       "      <td>410600000</td>\n",
       "      <td>241063875</td>\n",
       "      <td>1045663875</td>\n",
       "      <td>635063875</td>\n",
       "    </tr>\n",
       "    <tr>\n",
       "      <th>3</th>\n",
       "      <td>Jun 7, 2019</td>\n",
       "      <td>Dark Phoenix</td>\n",
       "      <td>350000000</td>\n",
       "      <td>42762350</td>\n",
       "      <td>149762350</td>\n",
       "      <td>-200237650</td>\n",
       "    </tr>\n",
       "    <tr>\n",
       "      <th>4</th>\n",
       "      <td>May 1, 2015</td>\n",
       "      <td>Avengers: Age of Ultron</td>\n",
       "      <td>330600000</td>\n",
       "      <td>459005868</td>\n",
       "      <td>1403013963</td>\n",
       "      <td>1072413963</td>\n",
       "    </tr>\n",
       "    <tr>\n",
       "      <th>5</th>\n",
       "      <td>Dec 15, 2017</td>\n",
       "      <td>Star Wars Ep. VIII: The Last Jedi</td>\n",
       "      <td>317000000</td>\n",
       "      <td>620181382</td>\n",
       "      <td>1316721747</td>\n",
       "      <td>999721747</td>\n",
       "    </tr>\n",
       "  </tbody>\n",
       "</table>\n",
       "</div>"
      ],
      "text/plain": [
       "    release_date                                        movie  \\\n",
       "id                                                              \n",
       "1   Dec 18, 2009                                       Avatar   \n",
       "2   May 20, 2011  Pirates of the Caribbean: On Stranger Tides   \n",
       "3    Jun 7, 2019                                 Dark Phoenix   \n",
       "4    May 1, 2015                      Avengers: Age of Ultron   \n",
       "5   Dec 15, 2017            Star Wars Ep. VIII: The Last Jedi   \n",
       "\n",
       "    production_budget  domestic_gross  worldwide_gross  budget_gross_diff  \n",
       "id                                                                         \n",
       "1           425000000       760507625       2776345279         2351345279  \n",
       "2           410600000       241063875       1045663875          635063875  \n",
       "3           350000000        42762350        149762350         -200237650  \n",
       "4           330600000       459005868       1403013963         1072413963  \n",
       "5           317000000       620181382       1316721747          999721747  "
      ]
     },
     "execution_count": 17,
     "metadata": {},
     "output_type": "execute_result"
    }
   ],
   "source": [
    "#getting the required difference column\n",
    "movie_budgets_df['budget_gross_diff'] = movie_budgets_df['worldwide_gross'] - \\\n",
    "                                        movie_budgets_df['production_budget']\n",
    "movie_budgets_df.head()"
   ]
  },
  {
   "cell_type": "code",
   "execution_count": 18,
   "metadata": {
    "ExecuteTime": {
     "end_time": "2021-04-30T18:06:02.353974Z",
     "start_time": "2021-04-30T18:06:02.349001Z"
    },
    "scrolled": true
   },
   "outputs": [],
   "source": [
    "#getting the top 5 most grossing films\n",
    "movie_budgets_df = movie_budgets_df.sort_values(by='budget_gross_diff', ascending=False)"
   ]
  },
  {
   "cell_type": "code",
   "execution_count": 19,
   "metadata": {
    "ExecuteTime": {
     "end_time": "2021-04-30T18:06:02.373008Z",
     "start_time": "2021-04-30T18:06:02.357910Z"
    }
   },
   "outputs": [
    {
     "data": {
      "text/plain": [
       "(5782, 6)"
      ]
     },
     "execution_count": 19,
     "metadata": {},
     "output_type": "execute_result"
    }
   ],
   "source": [
    "movie_budgets_df.shape"
   ]
  },
  {
   "cell_type": "code",
   "execution_count": 20,
   "metadata": {
    "ExecuteTime": {
     "end_time": "2021-04-30T18:06:02.386650Z",
     "start_time": "2021-04-30T18:06:02.376141Z"
    }
   },
   "outputs": [
    {
     "data": {
      "text/html": [
       "<div>\n",
       "<style scoped>\n",
       "    .dataframe tbody tr th:only-of-type {\n",
       "        vertical-align: middle;\n",
       "    }\n",
       "\n",
       "    .dataframe tbody tr th {\n",
       "        vertical-align: top;\n",
       "    }\n",
       "\n",
       "    .dataframe thead th {\n",
       "        text-align: right;\n",
       "    }\n",
       "</style>\n",
       "<table border=\"1\" class=\"dataframe\">\n",
       "  <thead>\n",
       "    <tr style=\"text-align: right;\">\n",
       "      <th></th>\n",
       "      <th>release_date</th>\n",
       "      <th>movie</th>\n",
       "      <th>production_budget</th>\n",
       "      <th>domestic_gross</th>\n",
       "      <th>worldwide_gross</th>\n",
       "      <th>budget_gross_diff</th>\n",
       "    </tr>\n",
       "    <tr>\n",
       "      <th>id</th>\n",
       "      <th></th>\n",
       "      <th></th>\n",
       "      <th></th>\n",
       "      <th></th>\n",
       "      <th></th>\n",
       "      <th></th>\n",
       "    </tr>\n",
       "  </thead>\n",
       "  <tbody>\n",
       "    <tr>\n",
       "      <th>1</th>\n",
       "      <td>Dec 18, 2009</td>\n",
       "      <td>Avatar</td>\n",
       "      <td>425000000</td>\n",
       "      <td>760507625</td>\n",
       "      <td>2776345279</td>\n",
       "      <td>2351345279</td>\n",
       "    </tr>\n",
       "    <tr>\n",
       "      <th>43</th>\n",
       "      <td>Dec 19, 1997</td>\n",
       "      <td>Titanic</td>\n",
       "      <td>200000000</td>\n",
       "      <td>659363944</td>\n",
       "      <td>2208208395</td>\n",
       "      <td>2008208395</td>\n",
       "    </tr>\n",
       "    <tr>\n",
       "      <th>7</th>\n",
       "      <td>Apr 27, 2018</td>\n",
       "      <td>Avengers: Infinity War</td>\n",
       "      <td>300000000</td>\n",
       "      <td>678815482</td>\n",
       "      <td>2048134200</td>\n",
       "      <td>1748134200</td>\n",
       "    </tr>\n",
       "    <tr>\n",
       "      <th>6</th>\n",
       "      <td>Dec 18, 2015</td>\n",
       "      <td>Star Wars Ep. VII: The Force Awakens</td>\n",
       "      <td>306000000</td>\n",
       "      <td>936662225</td>\n",
       "      <td>2053311220</td>\n",
       "      <td>1747311220</td>\n",
       "    </tr>\n",
       "    <tr>\n",
       "      <th>34</th>\n",
       "      <td>Jun 12, 2015</td>\n",
       "      <td>Jurassic World</td>\n",
       "      <td>215000000</td>\n",
       "      <td>652270625</td>\n",
       "      <td>1648854864</td>\n",
       "      <td>1433854864</td>\n",
       "    </tr>\n",
       "  </tbody>\n",
       "</table>\n",
       "</div>"
      ],
      "text/plain": [
       "    release_date                                 movie  production_budget  \\\n",
       "id                                                                          \n",
       "1   Dec 18, 2009                                Avatar          425000000   \n",
       "43  Dec 19, 1997                               Titanic          200000000   \n",
       "7   Apr 27, 2018                Avengers: Infinity War          300000000   \n",
       "6   Dec 18, 2015  Star Wars Ep. VII: The Force Awakens          306000000   \n",
       "34  Jun 12, 2015                        Jurassic World          215000000   \n",
       "\n",
       "    domestic_gross  worldwide_gross  budget_gross_diff  \n",
       "id                                                      \n",
       "1        760507625       2776345279         2351345279  \n",
       "43       659363944       2208208395         2008208395  \n",
       "7        678815482       2048134200         1748134200  \n",
       "6        936662225       2053311220         1747311220  \n",
       "34       652270625       1648854864         1433854864  "
      ]
     },
     "execution_count": 20,
     "metadata": {},
     "output_type": "execute_result"
    }
   ],
   "source": [
    "movie_budgets_df.head()"
   ]
  },
  {
   "cell_type": "markdown",
   "metadata": {},
   "source": [
    "#### Getting the top 50 grossing films"
   ]
  },
  {
   "cell_type": "code",
   "execution_count": 21,
   "metadata": {
    "ExecuteTime": {
     "end_time": "2021-04-30T18:06:02.391196Z",
     "start_time": "2021-04-30T18:06:02.388605Z"
    }
   },
   "outputs": [],
   "source": [
    "#deciding to go into more details with 50 films\n",
    "movie_budgets_df_top50 = movie_budgets_df[:50]"
   ]
  },
  {
   "cell_type": "code",
   "execution_count": 22,
   "metadata": {
    "ExecuteTime": {
     "end_time": "2021-04-30T18:06:02.401916Z",
     "start_time": "2021-04-30T18:06:02.396436Z"
    }
   },
   "outputs": [
    {
     "data": {
      "text/plain": [
       "(50, 6)"
      ]
     },
     "execution_count": 22,
     "metadata": {},
     "output_type": "execute_result"
    }
   ],
   "source": [
    "movie_budgets_df_top50.shape"
   ]
  },
  {
   "cell_type": "code",
   "execution_count": 23,
   "metadata": {
    "ExecuteTime": {
     "end_time": "2021-04-30T18:06:02.421604Z",
     "start_time": "2021-04-30T18:06:02.410580Z"
    }
   },
   "outputs": [
    {
     "data": {
      "text/html": [
       "<div>\n",
       "<style scoped>\n",
       "    .dataframe tbody tr th:only-of-type {\n",
       "        vertical-align: middle;\n",
       "    }\n",
       "\n",
       "    .dataframe tbody tr th {\n",
       "        vertical-align: top;\n",
       "    }\n",
       "\n",
       "    .dataframe thead th {\n",
       "        text-align: right;\n",
       "    }\n",
       "</style>\n",
       "<table border=\"1\" class=\"dataframe\">\n",
       "  <thead>\n",
       "    <tr style=\"text-align: right;\">\n",
       "      <th></th>\n",
       "      <th>release_date</th>\n",
       "      <th>movie</th>\n",
       "      <th>production_budget</th>\n",
       "      <th>domestic_gross</th>\n",
       "      <th>worldwide_gross</th>\n",
       "      <th>budget_gross_diff</th>\n",
       "    </tr>\n",
       "    <tr>\n",
       "      <th>id</th>\n",
       "      <th></th>\n",
       "      <th></th>\n",
       "      <th></th>\n",
       "      <th></th>\n",
       "      <th></th>\n",
       "      <th></th>\n",
       "    </tr>\n",
       "  </thead>\n",
       "  <tbody>\n",
       "    <tr>\n",
       "      <th>1</th>\n",
       "      <td>Dec 18, 2009</td>\n",
       "      <td>Avatar</td>\n",
       "      <td>425000000</td>\n",
       "      <td>760507625</td>\n",
       "      <td>2776345279</td>\n",
       "      <td>2351345279</td>\n",
       "    </tr>\n",
       "    <tr>\n",
       "      <th>43</th>\n",
       "      <td>Dec 19, 1997</td>\n",
       "      <td>Titanic</td>\n",
       "      <td>200000000</td>\n",
       "      <td>659363944</td>\n",
       "      <td>2208208395</td>\n",
       "      <td>2008208395</td>\n",
       "    </tr>\n",
       "    <tr>\n",
       "      <th>7</th>\n",
       "      <td>Apr 27, 2018</td>\n",
       "      <td>Avengers: Infinity War</td>\n",
       "      <td>300000000</td>\n",
       "      <td>678815482</td>\n",
       "      <td>2048134200</td>\n",
       "      <td>1748134200</td>\n",
       "    </tr>\n",
       "    <tr>\n",
       "      <th>6</th>\n",
       "      <td>Dec 18, 2015</td>\n",
       "      <td>Star Wars Ep. VII: The Force Awakens</td>\n",
       "      <td>306000000</td>\n",
       "      <td>936662225</td>\n",
       "      <td>2053311220</td>\n",
       "      <td>1747311220</td>\n",
       "    </tr>\n",
       "    <tr>\n",
       "      <th>34</th>\n",
       "      <td>Jun 12, 2015</td>\n",
       "      <td>Jurassic World</td>\n",
       "      <td>215000000</td>\n",
       "      <td>652270625</td>\n",
       "      <td>1648854864</td>\n",
       "      <td>1433854864</td>\n",
       "    </tr>\n",
       "  </tbody>\n",
       "</table>\n",
       "</div>"
      ],
      "text/plain": [
       "    release_date                                 movie  production_budget  \\\n",
       "id                                                                          \n",
       "1   Dec 18, 2009                                Avatar          425000000   \n",
       "43  Dec 19, 1997                               Titanic          200000000   \n",
       "7   Apr 27, 2018                Avengers: Infinity War          300000000   \n",
       "6   Dec 18, 2015  Star Wars Ep. VII: The Force Awakens          306000000   \n",
       "34  Jun 12, 2015                        Jurassic World          215000000   \n",
       "\n",
       "    domestic_gross  worldwide_gross  budget_gross_diff  \n",
       "id                                                      \n",
       "1        760507625       2776345279         2351345279  \n",
       "43       659363944       2208208395         2008208395  \n",
       "7        678815482       2048134200         1748134200  \n",
       "6        936662225       2053311220         1747311220  \n",
       "34       652270625       1648854864         1433854864  "
      ]
     },
     "execution_count": 23,
     "metadata": {},
     "output_type": "execute_result"
    }
   ],
   "source": [
    "movie_budgets_df_top50.head()"
   ]
  },
  {
   "cell_type": "code",
   "execution_count": 24,
   "metadata": {
    "ExecuteTime": {
     "end_time": "2021-04-30T18:06:02.629426Z",
     "start_time": "2021-04-30T18:06:02.432411Z"
    }
   },
   "outputs": [
    {
     "data": {
      "text/plain": [
       "<AxesSubplot:xlabel='budget_gross_diff', ylabel='movie'>"
      ]
     },
     "execution_count": 24,
     "metadata": {},
     "output_type": "execute_result"
    },
    {
     "data": {
      "image/png": "[encoded data removed]",
      "text/plain": [
       "<Figure size 432x288 with 1 Axes>"
      ]
     },
     "metadata": {
      "needs_background": "light"
     },
     "output_type": "display_data"
    }
   ],
   "source": [
    "sns.barplot(x = \"budget_gross_diff\", y = \"movie\", data = movie_budgets_df_top50[:5])"
   ]
  },
  {
   "cell_type": "markdown",
   "metadata": {},
   "source": [
    "# Exploring the percent of return "
   ]
  },
  {
   "cell_type": "markdown",
   "metadata": {},
   "source": [
    "We realized that with this direct dollar value we are ignoring any movies that might have made a little less money at the box office. Hence we are interested in exploring the percent of return on the production budget"
   ]
  },
  {
   "cell_type": "code",
   "execution_count": 25,
   "metadata": {
    "ExecuteTime": {
     "end_time": "2021-04-30T18:06:02.641725Z",
     "start_time": "2021-04-30T18:06:02.632798Z"
    }
   },
   "outputs": [
    {
     "data": {
      "text/html": [
       "<div>\n",
       "<style scoped>\n",
       "    .dataframe tbody tr th:only-of-type {\n",
       "        vertical-align: middle;\n",
       "    }\n",
       "\n",
       "    .dataframe tbody tr th {\n",
       "        vertical-align: top;\n",
       "    }\n",
       "\n",
       "    .dataframe thead th {\n",
       "        text-align: right;\n",
       "    }\n",
       "</style>\n",
       "<table border=\"1\" class=\"dataframe\">\n",
       "  <thead>\n",
       "    <tr style=\"text-align: right;\">\n",
       "      <th></th>\n",
       "      <th>release_date</th>\n",
       "      <th>movie</th>\n",
       "      <th>production_budget</th>\n",
       "      <th>domestic_gross</th>\n",
       "      <th>worldwide_gross</th>\n",
       "      <th>budget_gross_diff</th>\n",
       "    </tr>\n",
       "    <tr>\n",
       "      <th>id</th>\n",
       "      <th></th>\n",
       "      <th></th>\n",
       "      <th></th>\n",
       "      <th></th>\n",
       "      <th></th>\n",
       "      <th></th>\n",
       "    </tr>\n",
       "  </thead>\n",
       "  <tbody>\n",
       "    <tr>\n",
       "      <th>1</th>\n",
       "      <td>Dec 18, 2009</td>\n",
       "      <td>Avatar</td>\n",
       "      <td>425000000</td>\n",
       "      <td>760507625</td>\n",
       "      <td>2776345279</td>\n",
       "      <td>2351345279</td>\n",
       "    </tr>\n",
       "    <tr>\n",
       "      <th>43</th>\n",
       "      <td>Dec 19, 1997</td>\n",
       "      <td>Titanic</td>\n",
       "      <td>200000000</td>\n",
       "      <td>659363944</td>\n",
       "      <td>2208208395</td>\n",
       "      <td>2008208395</td>\n",
       "    </tr>\n",
       "    <tr>\n",
       "      <th>7</th>\n",
       "      <td>Apr 27, 2018</td>\n",
       "      <td>Avengers: Infinity War</td>\n",
       "      <td>300000000</td>\n",
       "      <td>678815482</td>\n",
       "      <td>2048134200</td>\n",
       "      <td>1748134200</td>\n",
       "    </tr>\n",
       "    <tr>\n",
       "      <th>6</th>\n",
       "      <td>Dec 18, 2015</td>\n",
       "      <td>Star Wars Ep. VII: The Force Awakens</td>\n",
       "      <td>306000000</td>\n",
       "      <td>936662225</td>\n",
       "      <td>2053311220</td>\n",
       "      <td>1747311220</td>\n",
       "    </tr>\n",
       "    <tr>\n",
       "      <th>34</th>\n",
       "      <td>Jun 12, 2015</td>\n",
       "      <td>Jurassic World</td>\n",
       "      <td>215000000</td>\n",
       "      <td>652270625</td>\n",
       "      <td>1648854864</td>\n",
       "      <td>1433854864</td>\n",
       "    </tr>\n",
       "  </tbody>\n",
       "</table>\n",
       "</div>"
      ],
      "text/plain": [
       "    release_date                                 movie  production_budget  \\\n",
       "id                                                                          \n",
       "1   Dec 18, 2009                                Avatar          425000000   \n",
       "43  Dec 19, 1997                               Titanic          200000000   \n",
       "7   Apr 27, 2018                Avengers: Infinity War          300000000   \n",
       "6   Dec 18, 2015  Star Wars Ep. VII: The Force Awakens          306000000   \n",
       "34  Jun 12, 2015                        Jurassic World          215000000   \n",
       "\n",
       "    domestic_gross  worldwide_gross  budget_gross_diff  \n",
       "id                                                      \n",
       "1        760507625       2776345279         2351345279  \n",
       "43       659363944       2208208395         2008208395  \n",
       "7        678815482       2048134200         1748134200  \n",
       "6        936662225       2053311220         1747311220  \n",
       "34       652270625       1648854864         1433854864  "
      ]
     },
     "execution_count": 25,
     "metadata": {},
     "output_type": "execute_result"
    }
   ],
   "source": [
    "movie_budgets_df.head()"
   ]
  },
  {
   "cell_type": "markdown",
   "metadata": {},
   "source": [
    "For getting the percent of return we just need to divide the new column we created by the production budget and store the values in a new column"
   ]
  },
  {
   "cell_type": "code",
   "execution_count": 26,
   "metadata": {
    "ExecuteTime": {
     "end_time": "2021-04-30T18:06:02.647576Z",
     "start_time": "2021-04-30T18:06:02.643839Z"
    }
   },
   "outputs": [],
   "source": [
    "movie_budgets_df['roi'] = movie_budgets_df['budget_gross_diff'] / movie_budgets_df['production_budget']"
   ]
  },
  {
   "cell_type": "code",
   "execution_count": 27,
   "metadata": {
    "ExecuteTime": {
     "end_time": "2021-04-30T18:06:02.658572Z",
     "start_time": "2021-04-30T18:06:02.649187Z"
    }
   },
   "outputs": [
    {
     "data": {
      "text/html": [
       "<div>\n",
       "<style scoped>\n",
       "    .dataframe tbody tr th:only-of-type {\n",
       "        vertical-align: middle;\n",
       "    }\n",
       "\n",
       "    .dataframe tbody tr th {\n",
       "        vertical-align: top;\n",
       "    }\n",
       "\n",
       "    .dataframe thead th {\n",
       "        text-align: right;\n",
       "    }\n",
       "</style>\n",
       "<table border=\"1\" class=\"dataframe\">\n",
       "  <thead>\n",
       "    <tr style=\"text-align: right;\">\n",
       "      <th></th>\n",
       "      <th>release_date</th>\n",
       "      <th>movie</th>\n",
       "      <th>production_budget</th>\n",
       "      <th>domestic_gross</th>\n",
       "      <th>worldwide_gross</th>\n",
       "      <th>budget_gross_diff</th>\n",
       "      <th>roi</th>\n",
       "    </tr>\n",
       "    <tr>\n",
       "      <th>id</th>\n",
       "      <th></th>\n",
       "      <th></th>\n",
       "      <th></th>\n",
       "      <th></th>\n",
       "      <th></th>\n",
       "      <th></th>\n",
       "      <th></th>\n",
       "    </tr>\n",
       "  </thead>\n",
       "  <tbody>\n",
       "    <tr>\n",
       "      <th>1</th>\n",
       "      <td>Dec 18, 2009</td>\n",
       "      <td>Avatar</td>\n",
       "      <td>425000000</td>\n",
       "      <td>760507625</td>\n",
       "      <td>2776345279</td>\n",
       "      <td>2351345279</td>\n",
       "      <td>5.532577</td>\n",
       "    </tr>\n",
       "    <tr>\n",
       "      <th>43</th>\n",
       "      <td>Dec 19, 1997</td>\n",
       "      <td>Titanic</td>\n",
       "      <td>200000000</td>\n",
       "      <td>659363944</td>\n",
       "      <td>2208208395</td>\n",
       "      <td>2008208395</td>\n",
       "      <td>10.041042</td>\n",
       "    </tr>\n",
       "    <tr>\n",
       "      <th>7</th>\n",
       "      <td>Apr 27, 2018</td>\n",
       "      <td>Avengers: Infinity War</td>\n",
       "      <td>300000000</td>\n",
       "      <td>678815482</td>\n",
       "      <td>2048134200</td>\n",
       "      <td>1748134200</td>\n",
       "      <td>5.827114</td>\n",
       "    </tr>\n",
       "    <tr>\n",
       "      <th>6</th>\n",
       "      <td>Dec 18, 2015</td>\n",
       "      <td>Star Wars Ep. VII: The Force Awakens</td>\n",
       "      <td>306000000</td>\n",
       "      <td>936662225</td>\n",
       "      <td>2053311220</td>\n",
       "      <td>1747311220</td>\n",
       "      <td>5.710167</td>\n",
       "    </tr>\n",
       "    <tr>\n",
       "      <th>34</th>\n",
       "      <td>Jun 12, 2015</td>\n",
       "      <td>Jurassic World</td>\n",
       "      <td>215000000</td>\n",
       "      <td>652270625</td>\n",
       "      <td>1648854864</td>\n",
       "      <td>1433854864</td>\n",
       "      <td>6.669092</td>\n",
       "    </tr>\n",
       "  </tbody>\n",
       "</table>\n",
       "</div>"
      ],
      "text/plain": [
       "    release_date                                 movie  production_budget  \\\n",
       "id                                                                          \n",
       "1   Dec 18, 2009                                Avatar          425000000   \n",
       "43  Dec 19, 1997                               Titanic          200000000   \n",
       "7   Apr 27, 2018                Avengers: Infinity War          300000000   \n",
       "6   Dec 18, 2015  Star Wars Ep. VII: The Force Awakens          306000000   \n",
       "34  Jun 12, 2015                        Jurassic World          215000000   \n",
       "\n",
       "    domestic_gross  worldwide_gross  budget_gross_diff        roi  \n",
       "id                                                                 \n",
       "1        760507625       2776345279         2351345279   5.532577  \n",
       "43       659363944       2208208395         2008208395  10.041042  \n",
       "7        678815482       2048134200         1748134200   5.827114  \n",
       "6        936662225       2053311220         1747311220   5.710167  \n",
       "34       652270625       1648854864         1433854864   6.669092  "
      ]
     },
     "execution_count": 27,
     "metadata": {},
     "output_type": "execute_result"
    }
   ],
   "source": [
    "movie_budgets_df.head()"
   ]
  },
  {
   "cell_type": "code",
   "execution_count": 28,
   "metadata": {
    "ExecuteTime": {
     "end_time": "2021-04-30T18:06:02.670024Z",
     "start_time": "2021-04-30T18:06:02.665456Z"
    }
   },
   "outputs": [],
   "source": [
    "movie_budgets_df = movie_budgets_df.sort_values(by='roi', ascending=False)"
   ]
  },
  {
   "cell_type": "code",
   "execution_count": 29,
   "metadata": {
    "ExecuteTime": {
     "end_time": "2021-04-30T18:06:02.681485Z",
     "start_time": "2021-04-30T18:06:02.671691Z"
    }
   },
   "outputs": [
    {
     "data": {
      "text/html": [
       "<div>\n",
       "<style scoped>\n",
       "    .dataframe tbody tr th:only-of-type {\n",
       "        vertical-align: middle;\n",
       "    }\n",
       "\n",
       "    .dataframe tbody tr th {\n",
       "        vertical-align: top;\n",
       "    }\n",
       "\n",
       "    .dataframe thead th {\n",
       "        text-align: right;\n",
       "    }\n",
       "</style>\n",
       "<table border=\"1\" class=\"dataframe\">\n",
       "  <thead>\n",
       "    <tr style=\"text-align: right;\">\n",
       "      <th></th>\n",
       "      <th>release_date</th>\n",
       "      <th>movie</th>\n",
       "      <th>production_budget</th>\n",
       "      <th>domestic_gross</th>\n",
       "      <th>worldwide_gross</th>\n",
       "      <th>budget_gross_diff</th>\n",
       "      <th>roi</th>\n",
       "    </tr>\n",
       "    <tr>\n",
       "      <th>id</th>\n",
       "      <th></th>\n",
       "      <th></th>\n",
       "      <th></th>\n",
       "      <th></th>\n",
       "      <th></th>\n",
       "      <th></th>\n",
       "      <th></th>\n",
       "    </tr>\n",
       "  </thead>\n",
       "  <tbody>\n",
       "    <tr>\n",
       "      <th>46</th>\n",
       "      <td>Jun 30, 1972</td>\n",
       "      <td>Deep Throat</td>\n",
       "      <td>25000</td>\n",
       "      <td>45000000</td>\n",
       "      <td>45000000</td>\n",
       "      <td>44975000</td>\n",
       "      <td>1799.000000</td>\n",
       "    </tr>\n",
       "    <tr>\n",
       "      <th>14</th>\n",
       "      <td>Mar 21, 1980</td>\n",
       "      <td>Mad Max</td>\n",
       "      <td>200000</td>\n",
       "      <td>8750000</td>\n",
       "      <td>99750000</td>\n",
       "      <td>99550000</td>\n",
       "      <td>497.750000</td>\n",
       "    </tr>\n",
       "    <tr>\n",
       "      <th>93</th>\n",
       "      <td>Sep 25, 2009</td>\n",
       "      <td>Paranormal Activity</td>\n",
       "      <td>450000</td>\n",
       "      <td>107918810</td>\n",
       "      <td>194183034</td>\n",
       "      <td>193733034</td>\n",
       "      <td>430.517853</td>\n",
       "    </tr>\n",
       "    <tr>\n",
       "      <th>80</th>\n",
       "      <td>Jul 10, 2015</td>\n",
       "      <td>The Gallows</td>\n",
       "      <td>100000</td>\n",
       "      <td>22764410</td>\n",
       "      <td>41656474</td>\n",
       "      <td>41556474</td>\n",
       "      <td>415.564740</td>\n",
       "    </tr>\n",
       "    <tr>\n",
       "      <th>7</th>\n",
       "      <td>Jul 14, 1999</td>\n",
       "      <td>The Blair Witch Project</td>\n",
       "      <td>600000</td>\n",
       "      <td>140539099</td>\n",
       "      <td>248300000</td>\n",
       "      <td>247700000</td>\n",
       "      <td>412.833333</td>\n",
       "    </tr>\n",
       "  </tbody>\n",
       "</table>\n",
       "</div>"
      ],
      "text/plain": [
       "    release_date                    movie  production_budget  domestic_gross  \\\n",
       "id                                                                             \n",
       "46  Jun 30, 1972              Deep Throat              25000        45000000   \n",
       "14  Mar 21, 1980                  Mad Max             200000         8750000   \n",
       "93  Sep 25, 2009      Paranormal Activity             450000       107918810   \n",
       "80  Jul 10, 2015              The Gallows             100000        22764410   \n",
       "7   Jul 14, 1999  The Blair Witch Project             600000       140539099   \n",
       "\n",
       "    worldwide_gross  budget_gross_diff          roi  \n",
       "id                                                   \n",
       "46         45000000           44975000  1799.000000  \n",
       "14         99750000           99550000   497.750000  \n",
       "93        194183034          193733034   430.517853  \n",
       "80         41656474           41556474   415.564740  \n",
       "7         248300000          247700000   412.833333  "
      ]
     },
     "execution_count": 29,
     "metadata": {},
     "output_type": "execute_result"
    }
   ],
   "source": [
    "movie_budgets_df.head()"
   ]
  },
  {
   "cell_type": "code",
   "execution_count": 30,
   "metadata": {
    "ExecuteTime": {
     "end_time": "2021-04-30T18:06:02.688929Z",
     "start_time": "2021-04-30T18:06:02.683624Z"
    }
   },
   "outputs": [
    {
     "data": {
      "text/plain": [
       "release_date         0\n",
       "movie                0\n",
       "production_budget    0\n",
       "domestic_gross       0\n",
       "worldwide_gross      0\n",
       "budget_gross_diff    0\n",
       "roi                  0\n",
       "dtype: int64"
      ]
     },
     "execution_count": 30,
     "metadata": {},
     "output_type": "execute_result"
    }
   ],
   "source": [
    "movie_budgets_df.isna().sum()"
   ]
  },
  {
   "cell_type": "markdown",
   "metadata": {},
   "source": [
    "We now have a dataframe sorted by the return on the production budget that we started with\n",
    "\n",
    "Main problem we run into now is that we have movies with really low budgets coming at the top. We know Microsoft will want to enter the movie industry with a bang and we are assuming they will have a budget of at least $10 million.\n",
    "\n",
    "We will ignore any movies with a budget smaller than that"
   ]
  },
  {
   "cell_type": "code",
   "execution_count": 31,
   "metadata": {
    "ExecuteTime": {
     "end_time": "2021-04-30T18:06:02.698255Z",
     "start_time": "2021-04-30T18:06:02.691314Z"
    }
   },
   "outputs": [],
   "source": [
    "movie_budgets_df = movie_budgets_df[movie_budgets_df['production_budget'] > 10000000]"
   ]
  },
  {
   "cell_type": "code",
   "execution_count": 32,
   "metadata": {
    "ExecuteTime": {
     "end_time": "2021-04-30T18:06:02.704987Z",
     "start_time": "2021-04-30T18:06:02.700651Z"
    }
   },
   "outputs": [
    {
     "data": {
      "text/plain": [
       "(3535, 7)"
      ]
     },
     "execution_count": 32,
     "metadata": {},
     "output_type": "execute_result"
    }
   ],
   "source": [
    "movie_budgets_df.shape"
   ]
  },
  {
   "cell_type": "code",
   "execution_count": 33,
   "metadata": {
    "ExecuteTime": {
     "end_time": "2021-04-30T18:06:02.715944Z",
     "start_time": "2021-04-30T18:06:02.706996Z"
    }
   },
   "outputs": [
    {
     "data": {
      "text/html": [
       "<div>\n",
       "<style scoped>\n",
       "    .dataframe tbody tr th:only-of-type {\n",
       "        vertical-align: middle;\n",
       "    }\n",
       "\n",
       "    .dataframe tbody tr th {\n",
       "        vertical-align: top;\n",
       "    }\n",
       "\n",
       "    .dataframe thead th {\n",
       "        text-align: right;\n",
       "    }\n",
       "</style>\n",
       "<table border=\"1\" class=\"dataframe\">\n",
       "  <thead>\n",
       "    <tr style=\"text-align: right;\">\n",
       "      <th></th>\n",
       "      <th>release_date</th>\n",
       "      <th>movie</th>\n",
       "      <th>production_budget</th>\n",
       "      <th>domestic_gross</th>\n",
       "      <th>worldwide_gross</th>\n",
       "      <th>budget_gross_diff</th>\n",
       "      <th>roi</th>\n",
       "    </tr>\n",
       "    <tr>\n",
       "      <th>id</th>\n",
       "      <th></th>\n",
       "      <th></th>\n",
       "      <th></th>\n",
       "      <th></th>\n",
       "      <th></th>\n",
       "      <th></th>\n",
       "      <th></th>\n",
       "    </tr>\n",
       "  </thead>\n",
       "  <tbody>\n",
       "    <tr>\n",
       "      <th>26</th>\n",
       "      <td>Jun 11, 1982</td>\n",
       "      <td>ET: The Extra-Terrestrial</td>\n",
       "      <td>10500000</td>\n",
       "      <td>435110554</td>\n",
       "      <td>792965326</td>\n",
       "      <td>782465326</td>\n",
       "      <td>74.520507</td>\n",
       "    </tr>\n",
       "    <tr>\n",
       "      <th>65</th>\n",
       "      <td>May 25, 1977</td>\n",
       "      <td>Star Wars Ep. IV: A New Hope</td>\n",
       "      <td>11000000</td>\n",
       "      <td>460998007</td>\n",
       "      <td>786598007</td>\n",
       "      <td>775598007</td>\n",
       "      <td>70.508910</td>\n",
       "    </tr>\n",
       "    <tr>\n",
       "      <th>18</th>\n",
       "      <td>May 25, 2012</td>\n",
       "      <td>Les Intouchables</td>\n",
       "      <td>10800000</td>\n",
       "      <td>13182281</td>\n",
       "      <td>484873045</td>\n",
       "      <td>474073045</td>\n",
       "      <td>43.895652</td>\n",
       "    </tr>\n",
       "    <tr>\n",
       "      <th>41</th>\n",
       "      <td>Jun 20, 1975</td>\n",
       "      <td>Jaws</td>\n",
       "      <td>12000000</td>\n",
       "      <td>260000000</td>\n",
       "      <td>470700000</td>\n",
       "      <td>458700000</td>\n",
       "      <td>38.225000</td>\n",
       "    </tr>\n",
       "    <tr>\n",
       "      <th>42</th>\n",
       "      <td>Dec 26, 1973</td>\n",
       "      <td>The Exorcist</td>\n",
       "      <td>12000000</td>\n",
       "      <td>230347346</td>\n",
       "      <td>428214478</td>\n",
       "      <td>416214478</td>\n",
       "      <td>34.684540</td>\n",
       "    </tr>\n",
       "  </tbody>\n",
       "</table>\n",
       "</div>"
      ],
      "text/plain": [
       "    release_date                         movie  production_budget  \\\n",
       "id                                                                  \n",
       "26  Jun 11, 1982     ET: The Extra-Terrestrial           10500000   \n",
       "65  May 25, 1977  Star Wars Ep. IV: A New Hope           11000000   \n",
       "18  May 25, 2012              Les Intouchables           10800000   \n",
       "41  Jun 20, 1975                          Jaws           12000000   \n",
       "42  Dec 26, 1973                  The Exorcist           12000000   \n",
       "\n",
       "    domestic_gross  worldwide_gross  budget_gross_diff        roi  \n",
       "id                                                                 \n",
       "26       435110554        792965326          782465326  74.520507  \n",
       "65       460998007        786598007          775598007  70.508910  \n",
       "18        13182281        484873045          474073045  43.895652  \n",
       "41       260000000        470700000          458700000  38.225000  \n",
       "42       230347346        428214478          416214478  34.684540  "
      ]
     },
     "execution_count": 33,
     "metadata": {},
     "output_type": "execute_result"
    }
   ],
   "source": [
    "movie_budgets_df.head()"
   ]
  },
  {
   "cell_type": "code",
   "execution_count": 34,
   "metadata": {
    "ExecuteTime": {
     "end_time": "2021-04-30T18:06:02.898047Z",
     "start_time": "2021-04-30T18:06:02.718417Z"
    },
    "scrolled": true
   },
   "outputs": [
    {
     "data": {
      "text/plain": [
       "<AxesSubplot:xlabel='roi', ylabel='movie'>"
      ]
     },
     "execution_count": 34,
     "metadata": {},
     "output_type": "execute_result"
    },
    {
     "data": {
      "image/png": "[encoded data removed]",
      "text/plain": [
       "<Figure size 432x288 with 1 Axes>"
      ]
     },
     "metadata": {
      "needs_background": "light"
     },
     "output_type": "display_data"
    }
   ],
   "source": [
    "sns.barplot(x = \"roi\", y = \"movie\", data = movie_budgets_df[:5])"
   ]
  },
  {
   "cell_type": "markdown",
   "metadata": {},
   "source": [
    "# What are the most popular genres?"
   ]
  },
  {
   "cell_type": "markdown",
   "metadata": {},
   "source": [
    "### Bringing in a dataframe with genre details"
   ]
  },
  {
   "cell_type": "markdown",
   "metadata": {},
   "source": [
    "Now that we have the movies, having some more information about the movies like their genre will give us some advanced insights"
   ]
  },
  {
   "cell_type": "code",
   "execution_count": 35,
   "metadata": {
    "ExecuteTime": {
     "end_time": "2021-04-30T18:06:02.903353Z",
     "start_time": "2021-04-30T18:06:02.900743Z"
    }
   },
   "outputs": [],
   "source": [
    "#title basics df will have all the required info\n",
    "imdb_title_basics_df = csv_files_dict['imdb_title_basics_gz']"
   ]
  },
  {
   "cell_type": "code",
   "execution_count": 36,
   "metadata": {
    "ExecuteTime": {
     "end_time": "2021-04-30T18:06:02.914800Z",
     "start_time": "2021-04-30T18:06:02.905354Z"
    }
   },
   "outputs": [
    {
     "data": {
      "text/html": [
       "<div>\n",
       "<style scoped>\n",
       "    .dataframe tbody tr th:only-of-type {\n",
       "        vertical-align: middle;\n",
       "    }\n",
       "\n",
       "    .dataframe tbody tr th {\n",
       "        vertical-align: top;\n",
       "    }\n",
       "\n",
       "    .dataframe thead th {\n",
       "        text-align: right;\n",
       "    }\n",
       "</style>\n",
       "<table border=\"1\" class=\"dataframe\">\n",
       "  <thead>\n",
       "    <tr style=\"text-align: right;\">\n",
       "      <th></th>\n",
       "      <th>primary_title</th>\n",
       "      <th>original_title</th>\n",
       "      <th>start_year</th>\n",
       "      <th>runtime_minutes</th>\n",
       "      <th>genres</th>\n",
       "    </tr>\n",
       "    <tr>\n",
       "      <th>tconst</th>\n",
       "      <th></th>\n",
       "      <th></th>\n",
       "      <th></th>\n",
       "      <th></th>\n",
       "      <th></th>\n",
       "    </tr>\n",
       "  </thead>\n",
       "  <tbody>\n",
       "    <tr>\n",
       "      <th>tt0063540</th>\n",
       "      <td>Sunghursh</td>\n",
       "      <td>Sunghursh</td>\n",
       "      <td>2013</td>\n",
       "      <td>175.0</td>\n",
       "      <td>Action,Crime,Drama</td>\n",
       "    </tr>\n",
       "    <tr>\n",
       "      <th>tt0066787</th>\n",
       "      <td>One Day Before the Rainy Season</td>\n",
       "      <td>Ashad Ka Ek Din</td>\n",
       "      <td>2019</td>\n",
       "      <td>114.0</td>\n",
       "      <td>Biography,Drama</td>\n",
       "    </tr>\n",
       "    <tr>\n",
       "      <th>tt0069049</th>\n",
       "      <td>The Other Side of the Wind</td>\n",
       "      <td>The Other Side of the Wind</td>\n",
       "      <td>2018</td>\n",
       "      <td>122.0</td>\n",
       "      <td>Drama</td>\n",
       "    </tr>\n",
       "    <tr>\n",
       "      <th>tt0069204</th>\n",
       "      <td>Sabse Bada Sukh</td>\n",
       "      <td>Sabse Bada Sukh</td>\n",
       "      <td>2018</td>\n",
       "      <td>NaN</td>\n",
       "      <td>Comedy,Drama</td>\n",
       "    </tr>\n",
       "    <tr>\n",
       "      <th>tt0100275</th>\n",
       "      <td>The Wandering Soap Opera</td>\n",
       "      <td>La Telenovela Errante</td>\n",
       "      <td>2017</td>\n",
       "      <td>80.0</td>\n",
       "      <td>Comedy,Drama,Fantasy</td>\n",
       "    </tr>\n",
       "  </tbody>\n",
       "</table>\n",
       "</div>"
      ],
      "text/plain": [
       "                             primary_title              original_title  \\\n",
       "tconst                                                                   \n",
       "tt0063540                        Sunghursh                   Sunghursh   \n",
       "tt0066787  One Day Before the Rainy Season             Ashad Ka Ek Din   \n",
       "tt0069049       The Other Side of the Wind  The Other Side of the Wind   \n",
       "tt0069204                  Sabse Bada Sukh             Sabse Bada Sukh   \n",
       "tt0100275         The Wandering Soap Opera       La Telenovela Errante   \n",
       "\n",
       "           start_year  runtime_minutes                genres  \n",
       "tconst                                                        \n",
       "tt0063540        2013            175.0    Action,Crime,Drama  \n",
       "tt0066787        2019            114.0       Biography,Drama  \n",
       "tt0069049        2018            122.0                 Drama  \n",
       "tt0069204        2018              NaN          Comedy,Drama  \n",
       "tt0100275        2017             80.0  Comedy,Drama,Fantasy  "
      ]
     },
     "execution_count": 36,
     "metadata": {},
     "output_type": "execute_result"
    }
   ],
   "source": [
    "imdb_title_basics_df.head()"
   ]
  },
  {
   "cell_type": "code",
   "execution_count": 37,
   "metadata": {
    "ExecuteTime": {
     "end_time": "2021-04-30T18:06:02.975876Z",
     "start_time": "2021-04-30T18:06:02.916685Z"
    }
   },
   "outputs": [],
   "source": [
    "#using merge and using a left join. As col names are different, using left_on and right_on options\n",
    "\n",
    "movie_details_df = pd.merge(movie_budgets_df_top50, imdb_title_basics_df, left_on=  ['movie'],\n",
    "                   right_on= ['primary_title'], \n",
    "                   how = 'left')"
   ]
  },
  {
   "cell_type": "code",
   "execution_count": 38,
   "metadata": {
    "ExecuteTime": {
     "end_time": "2021-04-30T18:06:02.982067Z",
     "start_time": "2021-04-30T18:06:02.978304Z"
    },
    "scrolled": true
   },
   "outputs": [
    {
     "data": {
      "text/plain": [
       "(58, 11)"
      ]
     },
     "execution_count": 38,
     "metadata": {},
     "output_type": "execute_result"
    }
   ],
   "source": [
    "movie_details_df.shape"
   ]
  },
  {
   "cell_type": "code",
   "execution_count": 39,
   "metadata": {
    "ExecuteTime": {
     "end_time": "2021-04-30T18:06:02.998833Z",
     "start_time": "2021-04-30T18:06:02.984201Z"
    },
    "scrolled": false
   },
   "outputs": [
    {
     "name": "stdout",
     "output_type": "stream",
     "text": [
      "<class 'pandas.core.frame.DataFrame'>\n",
      "Int64Index: 58 entries, 0 to 57\n",
      "Data columns (total 11 columns):\n",
      " #   Column             Non-Null Count  Dtype  \n",
      "---  ------             --------------  -----  \n",
      " 0   release_date       58 non-null     object \n",
      " 1   movie              58 non-null     object \n",
      " 2   production_budget  58 non-null     int64  \n",
      " 3   domestic_gross     58 non-null     int64  \n",
      " 4   worldwide_gross    58 non-null     int64  \n",
      " 5   budget_gross_diff  58 non-null     int64  \n",
      " 6   primary_title      43 non-null     object \n",
      " 7   original_title     43 non-null     object \n",
      " 8   start_year         43 non-null     float64\n",
      " 9   runtime_minutes    41 non-null     float64\n",
      " 10  genres             43 non-null     object \n",
      "dtypes: float64(2), int64(4), object(5)\n",
      "memory usage: 5.4+ KB\n"
     ]
    }
   ],
   "source": [
    "movie_details_df.info()"
   ]
  },
  {
   "cell_type": "code",
   "execution_count": 40,
   "metadata": {
    "ExecuteTime": {
     "end_time": "2021-04-30T18:06:03.006677Z",
     "start_time": "2021-04-30T18:06:03.001592Z"
    }
   },
   "outputs": [],
   "source": [
    "movie_details_df.dropna(inplace = True)"
   ]
  },
  {
   "cell_type": "code",
   "execution_count": 41,
   "metadata": {
    "ExecuteTime": {
     "end_time": "2021-04-30T18:06:03.012423Z",
     "start_time": "2021-04-30T18:06:03.008817Z"
    }
   },
   "outputs": [
    {
     "data": {
      "text/plain": [
       "(41, 11)"
      ]
     },
     "execution_count": 41,
     "metadata": {},
     "output_type": "execute_result"
    }
   ],
   "source": [
    "movie_details_df.shape"
   ]
  },
  {
   "cell_type": "code",
   "execution_count": 42,
   "metadata": {
    "ExecuteTime": {
     "end_time": "2021-04-30T18:06:03.031482Z",
     "start_time": "2021-04-30T18:06:03.014489Z"
    }
   },
   "outputs": [
    {
     "data": {
      "text/html": [
       "<div>\n",
       "<style scoped>\n",
       "    .dataframe tbody tr th:only-of-type {\n",
       "        vertical-align: middle;\n",
       "    }\n",
       "\n",
       "    .dataframe tbody tr th {\n",
       "        vertical-align: top;\n",
       "    }\n",
       "\n",
       "    .dataframe thead th {\n",
       "        text-align: right;\n",
       "    }\n",
       "</style>\n",
       "<table border=\"1\" class=\"dataframe\">\n",
       "  <thead>\n",
       "    <tr style=\"text-align: right;\">\n",
       "      <th></th>\n",
       "      <th>release_date</th>\n",
       "      <th>movie</th>\n",
       "      <th>production_budget</th>\n",
       "      <th>domestic_gross</th>\n",
       "      <th>worldwide_gross</th>\n",
       "      <th>budget_gross_diff</th>\n",
       "      <th>primary_title</th>\n",
       "      <th>original_title</th>\n",
       "      <th>start_year</th>\n",
       "      <th>runtime_minutes</th>\n",
       "      <th>genres</th>\n",
       "    </tr>\n",
       "  </thead>\n",
       "  <tbody>\n",
       "    <tr>\n",
       "      <th>0</th>\n",
       "      <td>Dec 18, 2009</td>\n",
       "      <td>Avatar</td>\n",
       "      <td>425000000</td>\n",
       "      <td>760507625</td>\n",
       "      <td>2776345279</td>\n",
       "      <td>2351345279</td>\n",
       "      <td>Avatar</td>\n",
       "      <td>Abatâ</td>\n",
       "      <td>2011.0</td>\n",
       "      <td>93.0</td>\n",
       "      <td>Horror</td>\n",
       "    </tr>\n",
       "    <tr>\n",
       "      <th>2</th>\n",
       "      <td>Dec 19, 1997</td>\n",
       "      <td>Titanic</td>\n",
       "      <td>200000000</td>\n",
       "      <td>659363944</td>\n",
       "      <td>2208208395</td>\n",
       "      <td>2008208395</td>\n",
       "      <td>Titanic</td>\n",
       "      <td>Titanic</td>\n",
       "      <td>2018.0</td>\n",
       "      <td>115.0</td>\n",
       "      <td>Family</td>\n",
       "    </tr>\n",
       "    <tr>\n",
       "      <th>3</th>\n",
       "      <td>Apr 27, 2018</td>\n",
       "      <td>Avengers: Infinity War</td>\n",
       "      <td>300000000</td>\n",
       "      <td>678815482</td>\n",
       "      <td>2048134200</td>\n",
       "      <td>1748134200</td>\n",
       "      <td>Avengers: Infinity War</td>\n",
       "      <td>Avengers: Infinity War</td>\n",
       "      <td>2018.0</td>\n",
       "      <td>149.0</td>\n",
       "      <td>Action,Adventure,Sci-Fi</td>\n",
       "    </tr>\n",
       "    <tr>\n",
       "      <th>5</th>\n",
       "      <td>Jun 12, 2015</td>\n",
       "      <td>Jurassic World</td>\n",
       "      <td>215000000</td>\n",
       "      <td>652270625</td>\n",
       "      <td>1648854864</td>\n",
       "      <td>1433854864</td>\n",
       "      <td>Jurassic World</td>\n",
       "      <td>Jurassic World</td>\n",
       "      <td>2015.0</td>\n",
       "      <td>124.0</td>\n",
       "      <td>Action,Adventure,Sci-Fi</td>\n",
       "    </tr>\n",
       "    <tr>\n",
       "      <th>6</th>\n",
       "      <td>Apr 3, 2015</td>\n",
       "      <td>Furious 7</td>\n",
       "      <td>190000000</td>\n",
       "      <td>353007020</td>\n",
       "      <td>1518722794</td>\n",
       "      <td>1328722794</td>\n",
       "      <td>Furious 7</td>\n",
       "      <td>Furious Seven</td>\n",
       "      <td>2015.0</td>\n",
       "      <td>137.0</td>\n",
       "      <td>Action,Crime,Thriller</td>\n",
       "    </tr>\n",
       "  </tbody>\n",
       "</table>\n",
       "</div>"
      ],
      "text/plain": [
       "   release_date                   movie  production_budget  domestic_gross  \\\n",
       "0  Dec 18, 2009                  Avatar          425000000       760507625   \n",
       "2  Dec 19, 1997                 Titanic          200000000       659363944   \n",
       "3  Apr 27, 2018  Avengers: Infinity War          300000000       678815482   \n",
       "5  Jun 12, 2015          Jurassic World          215000000       652270625   \n",
       "6   Apr 3, 2015               Furious 7          190000000       353007020   \n",
       "\n",
       "   worldwide_gross  budget_gross_diff           primary_title  \\\n",
       "0       2776345279         2351345279                  Avatar   \n",
       "2       2208208395         2008208395                 Titanic   \n",
       "3       2048134200         1748134200  Avengers: Infinity War   \n",
       "5       1648854864         1433854864          Jurassic World   \n",
       "6       1518722794         1328722794               Furious 7   \n",
       "\n",
       "           original_title  start_year  runtime_minutes  \\\n",
       "0                   Abatâ      2011.0             93.0   \n",
       "2                 Titanic      2018.0            115.0   \n",
       "3  Avengers: Infinity War      2018.0            149.0   \n",
       "5          Jurassic World      2015.0            124.0   \n",
       "6           Furious Seven      2015.0            137.0   \n",
       "\n",
       "                    genres  \n",
       "0                   Horror  \n",
       "2                   Family  \n",
       "3  Action,Adventure,Sci-Fi  \n",
       "5  Action,Adventure,Sci-Fi  \n",
       "6    Action,Crime,Thriller  "
      ]
     },
     "execution_count": 42,
     "metadata": {},
     "output_type": "execute_result"
    }
   ],
   "source": [
    "movie_details_df.head()"
   ]
  },
  {
   "cell_type": "markdown",
   "metadata": {},
   "source": [
    "We notice that some of the records are not joined correctly. We will try to rectify this by leveraging the release year and trying to join based on that as well"
   ]
  },
  {
   "cell_type": "markdown",
   "metadata": {},
   "source": [
    "### Adding release year to the join to get more relevant results"
   ]
  },
  {
   "cell_type": "code",
   "execution_count": 43,
   "metadata": {
    "ExecuteTime": {
     "end_time": "2021-04-30T18:06:03.040924Z",
     "start_time": "2021-04-30T18:06:03.033769Z"
    }
   },
   "outputs": [
    {
     "name": "stdout",
     "output_type": "stream",
     "text": [
      "<class 'pandas.core.frame.DataFrame'>\n",
      "Int64Index: 50 entries, 1 to 26\n",
      "Data columns (total 6 columns):\n",
      " #   Column             Non-Null Count  Dtype \n",
      "---  ------             --------------  ----- \n",
      " 0   release_date       50 non-null     object\n",
      " 1   movie              50 non-null     object\n",
      " 2   production_budget  50 non-null     int64 \n",
      " 3   domestic_gross     50 non-null     int64 \n",
      " 4   worldwide_gross    50 non-null     int64 \n",
      " 5   budget_gross_diff  50 non-null     int64 \n",
      "dtypes: int64(4), object(2)\n",
      "memory usage: 2.7+ KB\n"
     ]
    }
   ],
   "source": [
    "movie_budgets_df_top50.info()"
   ]
  },
  {
   "cell_type": "code",
   "execution_count": 44,
   "metadata": {
    "ExecuteTime": {
     "end_time": "2021-04-30T18:06:03.053239Z",
     "start_time": "2021-04-30T18:06:03.042923Z"
    }
   },
   "outputs": [],
   "source": [
    "movie_budgets_df_top50['release_year'] = pd.to_datetime(movie_budgets_df_top50['release_date']).dt.year"
   ]
  },
  {
   "cell_type": "code",
   "execution_count": 45,
   "metadata": {
    "ExecuteTime": {
     "end_time": "2021-04-30T18:06:03.067631Z",
     "start_time": "2021-04-30T18:06:03.055222Z"
    }
   },
   "outputs": [
    {
     "name": "stdout",
     "output_type": "stream",
     "text": [
      "<class 'pandas.core.frame.DataFrame'>\n",
      "Int64Index: 50 entries, 1 to 26\n",
      "Data columns (total 7 columns):\n",
      " #   Column             Non-Null Count  Dtype \n",
      "---  ------             --------------  ----- \n",
      " 0   release_date       50 non-null     object\n",
      " 1   movie              50 non-null     object\n",
      " 2   production_budget  50 non-null     int64 \n",
      " 3   domestic_gross     50 non-null     int64 \n",
      " 4   worldwide_gross    50 non-null     int64 \n",
      " 5   budget_gross_diff  50 non-null     int64 \n",
      " 6   release_year       50 non-null     int64 \n",
      "dtypes: int64(5), object(2)\n",
      "memory usage: 3.1+ KB\n"
     ]
    }
   ],
   "source": [
    "movie_budgets_df_top50.info()"
   ]
  },
  {
   "cell_type": "code",
   "execution_count": 46,
   "metadata": {
    "ExecuteTime": {
     "end_time": "2021-04-30T18:06:03.079384Z",
     "start_time": "2021-04-30T18:06:03.069518Z"
    }
   },
   "outputs": [
    {
     "data": {
      "text/html": [
       "<div>\n",
       "<style scoped>\n",
       "    .dataframe tbody tr th:only-of-type {\n",
       "        vertical-align: middle;\n",
       "    }\n",
       "\n",
       "    .dataframe tbody tr th {\n",
       "        vertical-align: top;\n",
       "    }\n",
       "\n",
       "    .dataframe thead th {\n",
       "        text-align: right;\n",
       "    }\n",
       "</style>\n",
       "<table border=\"1\" class=\"dataframe\">\n",
       "  <thead>\n",
       "    <tr style=\"text-align: right;\">\n",
       "      <th></th>\n",
       "      <th>release_date</th>\n",
       "      <th>movie</th>\n",
       "      <th>production_budget</th>\n",
       "      <th>domestic_gross</th>\n",
       "      <th>worldwide_gross</th>\n",
       "      <th>budget_gross_diff</th>\n",
       "      <th>release_year</th>\n",
       "    </tr>\n",
       "    <tr>\n",
       "      <th>id</th>\n",
       "      <th></th>\n",
       "      <th></th>\n",
       "      <th></th>\n",
       "      <th></th>\n",
       "      <th></th>\n",
       "      <th></th>\n",
       "      <th></th>\n",
       "    </tr>\n",
       "  </thead>\n",
       "  <tbody>\n",
       "    <tr>\n",
       "      <th>1</th>\n",
       "      <td>Dec 18, 2009</td>\n",
       "      <td>Avatar</td>\n",
       "      <td>425000000</td>\n",
       "      <td>760507625</td>\n",
       "      <td>2776345279</td>\n",
       "      <td>2351345279</td>\n",
       "      <td>2009</td>\n",
       "    </tr>\n",
       "    <tr>\n",
       "      <th>43</th>\n",
       "      <td>Dec 19, 1997</td>\n",
       "      <td>Titanic</td>\n",
       "      <td>200000000</td>\n",
       "      <td>659363944</td>\n",
       "      <td>2208208395</td>\n",
       "      <td>2008208395</td>\n",
       "      <td>1997</td>\n",
       "    </tr>\n",
       "    <tr>\n",
       "      <th>7</th>\n",
       "      <td>Apr 27, 2018</td>\n",
       "      <td>Avengers: Infinity War</td>\n",
       "      <td>300000000</td>\n",
       "      <td>678815482</td>\n",
       "      <td>2048134200</td>\n",
       "      <td>1748134200</td>\n",
       "      <td>2018</td>\n",
       "    </tr>\n",
       "    <tr>\n",
       "      <th>6</th>\n",
       "      <td>Dec 18, 2015</td>\n",
       "      <td>Star Wars Ep. VII: The Force Awakens</td>\n",
       "      <td>306000000</td>\n",
       "      <td>936662225</td>\n",
       "      <td>2053311220</td>\n",
       "      <td>1747311220</td>\n",
       "      <td>2015</td>\n",
       "    </tr>\n",
       "    <tr>\n",
       "      <th>34</th>\n",
       "      <td>Jun 12, 2015</td>\n",
       "      <td>Jurassic World</td>\n",
       "      <td>215000000</td>\n",
       "      <td>652270625</td>\n",
       "      <td>1648854864</td>\n",
       "      <td>1433854864</td>\n",
       "      <td>2015</td>\n",
       "    </tr>\n",
       "  </tbody>\n",
       "</table>\n",
       "</div>"
      ],
      "text/plain": [
       "    release_date                                 movie  production_budget  \\\n",
       "id                                                                          \n",
       "1   Dec 18, 2009                                Avatar          425000000   \n",
       "43  Dec 19, 1997                               Titanic          200000000   \n",
       "7   Apr 27, 2018                Avengers: Infinity War          300000000   \n",
       "6   Dec 18, 2015  Star Wars Ep. VII: The Force Awakens          306000000   \n",
       "34  Jun 12, 2015                        Jurassic World          215000000   \n",
       "\n",
       "    domestic_gross  worldwide_gross  budget_gross_diff  release_year  \n",
       "id                                                                    \n",
       "1        760507625       2776345279         2351345279          2009  \n",
       "43       659363944       2208208395         2008208395          1997  \n",
       "7        678815482       2048134200         1748134200          2018  \n",
       "6        936662225       2053311220         1747311220          2015  \n",
       "34       652270625       1648854864         1433854864          2015  "
      ]
     },
     "execution_count": 46,
     "metadata": {},
     "output_type": "execute_result"
    }
   ],
   "source": [
    "movie_budgets_df_top50.head()"
   ]
  },
  {
   "cell_type": "code",
   "execution_count": 47,
   "metadata": {
    "ExecuteTime": {
     "end_time": "2021-04-30T18:06:03.132324Z",
     "start_time": "2021-04-30T18:06:03.082212Z"
    }
   },
   "outputs": [],
   "source": [
    "movie_details_df2 = pd.merge(movie_budgets_df_top50, imdb_title_basics_df, left_on=  ['movie', 'release_year'],\n",
    "                   right_on= ['primary_title', 'start_year'], \n",
    "                   how = 'left')"
   ]
  },
  {
   "cell_type": "code",
   "execution_count": 48,
   "metadata": {
    "ExecuteTime": {
     "end_time": "2021-04-30T18:06:03.137950Z",
     "start_time": "2021-04-30T18:06:03.134057Z"
    }
   },
   "outputs": [
    {
     "data": {
      "text/plain": [
       "(51, 12)"
      ]
     },
     "execution_count": 48,
     "metadata": {},
     "output_type": "execute_result"
    }
   ],
   "source": [
    "movie_details_df2.shape"
   ]
  },
  {
   "cell_type": "code",
   "execution_count": 49,
   "metadata": {
    "ExecuteTime": {
     "end_time": "2021-04-30T18:06:03.151282Z",
     "start_time": "2021-04-30T18:06:03.140462Z"
    }
   },
   "outputs": [
    {
     "name": "stdout",
     "output_type": "stream",
     "text": [
      "<class 'pandas.core.frame.DataFrame'>\n",
      "Int64Index: 51 entries, 0 to 50\n",
      "Data columns (total 12 columns):\n",
      " #   Column             Non-Null Count  Dtype  \n",
      "---  ------             --------------  -----  \n",
      " 0   release_date       51 non-null     object \n",
      " 1   movie              51 non-null     object \n",
      " 2   production_budget  51 non-null     int64  \n",
      " 3   domestic_gross     51 non-null     int64  \n",
      " 4   worldwide_gross    51 non-null     int64  \n",
      " 5   budget_gross_diff  51 non-null     int64  \n",
      " 6   release_year       51 non-null     int64  \n",
      " 7   primary_title      33 non-null     object \n",
      " 8   original_title     33 non-null     object \n",
      " 9   start_year         33 non-null     float64\n",
      " 10  runtime_minutes    33 non-null     float64\n",
      " 11  genres             33 non-null     object \n",
      "dtypes: float64(2), int64(5), object(5)\n",
      "memory usage: 5.2+ KB\n"
     ]
    }
   ],
   "source": [
    "movie_details_df2.info()"
   ]
  },
  {
   "cell_type": "code",
   "execution_count": 50,
   "metadata": {
    "ExecuteTime": {
     "end_time": "2021-04-30T18:06:03.172001Z",
     "start_time": "2021-04-30T18:06:03.153276Z"
    }
   },
   "outputs": [
    {
     "data": {
      "text/html": [
       "<div>\n",
       "<style scoped>\n",
       "    .dataframe tbody tr th:only-of-type {\n",
       "        vertical-align: middle;\n",
       "    }\n",
       "\n",
       "    .dataframe tbody tr th {\n",
       "        vertical-align: top;\n",
       "    }\n",
       "\n",
       "    .dataframe thead th {\n",
       "        text-align: right;\n",
       "    }\n",
       "</style>\n",
       "<table border=\"1\" class=\"dataframe\">\n",
       "  <thead>\n",
       "    <tr style=\"text-align: right;\">\n",
       "      <th></th>\n",
       "      <th>release_date</th>\n",
       "      <th>movie</th>\n",
       "      <th>production_budget</th>\n",
       "      <th>domestic_gross</th>\n",
       "      <th>worldwide_gross</th>\n",
       "      <th>budget_gross_diff</th>\n",
       "      <th>release_year</th>\n",
       "      <th>primary_title</th>\n",
       "      <th>original_title</th>\n",
       "      <th>start_year</th>\n",
       "      <th>runtime_minutes</th>\n",
       "      <th>genres</th>\n",
       "    </tr>\n",
       "  </thead>\n",
       "  <tbody>\n",
       "    <tr>\n",
       "      <th>0</th>\n",
       "      <td>Dec 18, 2009</td>\n",
       "      <td>Avatar</td>\n",
       "      <td>425000000</td>\n",
       "      <td>760507625</td>\n",
       "      <td>2776345279</td>\n",
       "      <td>2351345279</td>\n",
       "      <td>2009</td>\n",
       "      <td>NaN</td>\n",
       "      <td>NaN</td>\n",
       "      <td>NaN</td>\n",
       "      <td>NaN</td>\n",
       "      <td>NaN</td>\n",
       "    </tr>\n",
       "    <tr>\n",
       "      <th>1</th>\n",
       "      <td>Dec 19, 1997</td>\n",
       "      <td>Titanic</td>\n",
       "      <td>200000000</td>\n",
       "      <td>659363944</td>\n",
       "      <td>2208208395</td>\n",
       "      <td>2008208395</td>\n",
       "      <td>1997</td>\n",
       "      <td>NaN</td>\n",
       "      <td>NaN</td>\n",
       "      <td>NaN</td>\n",
       "      <td>NaN</td>\n",
       "      <td>NaN</td>\n",
       "    </tr>\n",
       "    <tr>\n",
       "      <th>2</th>\n",
       "      <td>Apr 27, 2018</td>\n",
       "      <td>Avengers: Infinity War</td>\n",
       "      <td>300000000</td>\n",
       "      <td>678815482</td>\n",
       "      <td>2048134200</td>\n",
       "      <td>1748134200</td>\n",
       "      <td>2018</td>\n",
       "      <td>Avengers: Infinity War</td>\n",
       "      <td>Avengers: Infinity War</td>\n",
       "      <td>2018.0</td>\n",
       "      <td>149.0</td>\n",
       "      <td>Action,Adventure,Sci-Fi</td>\n",
       "    </tr>\n",
       "    <tr>\n",
       "      <th>3</th>\n",
       "      <td>Dec 18, 2015</td>\n",
       "      <td>Star Wars Ep. VII: The Force Awakens</td>\n",
       "      <td>306000000</td>\n",
       "      <td>936662225</td>\n",
       "      <td>2053311220</td>\n",
       "      <td>1747311220</td>\n",
       "      <td>2015</td>\n",
       "      <td>NaN</td>\n",
       "      <td>NaN</td>\n",
       "      <td>NaN</td>\n",
       "      <td>NaN</td>\n",
       "      <td>NaN</td>\n",
       "    </tr>\n",
       "    <tr>\n",
       "      <th>4</th>\n",
       "      <td>Jun 12, 2015</td>\n",
       "      <td>Jurassic World</td>\n",
       "      <td>215000000</td>\n",
       "      <td>652270625</td>\n",
       "      <td>1648854864</td>\n",
       "      <td>1433854864</td>\n",
       "      <td>2015</td>\n",
       "      <td>Jurassic World</td>\n",
       "      <td>Jurassic World</td>\n",
       "      <td>2015.0</td>\n",
       "      <td>124.0</td>\n",
       "      <td>Action,Adventure,Sci-Fi</td>\n",
       "    </tr>\n",
       "  </tbody>\n",
       "</table>\n",
       "</div>"
      ],
      "text/plain": [
       "   release_date                                 movie  production_budget  \\\n",
       "0  Dec 18, 2009                                Avatar          425000000   \n",
       "1  Dec 19, 1997                               Titanic          200000000   \n",
       "2  Apr 27, 2018                Avengers: Infinity War          300000000   \n",
       "3  Dec 18, 2015  Star Wars Ep. VII: The Force Awakens          306000000   \n",
       "4  Jun 12, 2015                        Jurassic World          215000000   \n",
       "\n",
       "   domestic_gross  worldwide_gross  budget_gross_diff  release_year  \\\n",
       "0       760507625       2776345279         2351345279          2009   \n",
       "1       659363944       2208208395         2008208395          1997   \n",
       "2       678815482       2048134200         1748134200          2018   \n",
       "3       936662225       2053311220         1747311220          2015   \n",
       "4       652270625       1648854864         1433854864          2015   \n",
       "\n",
       "            primary_title          original_title  start_year  \\\n",
       "0                     NaN                     NaN         NaN   \n",
       "1                     NaN                     NaN         NaN   \n",
       "2  Avengers: Infinity War  Avengers: Infinity War      2018.0   \n",
       "3                     NaN                     NaN         NaN   \n",
       "4          Jurassic World          Jurassic World      2015.0   \n",
       "\n",
       "   runtime_minutes                   genres  \n",
       "0              NaN                      NaN  \n",
       "1              NaN                      NaN  \n",
       "2            149.0  Action,Adventure,Sci-Fi  \n",
       "3              NaN                      NaN  \n",
       "4            124.0  Action,Adventure,Sci-Fi  "
      ]
     },
     "execution_count": 50,
     "metadata": {},
     "output_type": "execute_result"
    }
   ],
   "source": [
    "movie_details_df2.head()"
   ]
  },
  {
   "cell_type": "code",
   "execution_count": 51,
   "metadata": {
    "ExecuteTime": {
     "end_time": "2021-04-30T18:06:03.178204Z",
     "start_time": "2021-04-30T18:06:03.174034Z"
    }
   },
   "outputs": [],
   "source": [
    "movie_details_df2.dropna(inplace=True)"
   ]
  },
  {
   "cell_type": "code",
   "execution_count": 52,
   "metadata": {
    "ExecuteTime": {
     "end_time": "2021-04-30T18:06:03.188649Z",
     "start_time": "2021-04-30T18:06:03.180385Z"
    }
   },
   "outputs": [
    {
     "name": "stdout",
     "output_type": "stream",
     "text": [
      "<class 'pandas.core.frame.DataFrame'>\n",
      "Int64Index: 33 entries, 2 to 49\n",
      "Data columns (total 12 columns):\n",
      " #   Column             Non-Null Count  Dtype  \n",
      "---  ------             --------------  -----  \n",
      " 0   release_date       33 non-null     object \n",
      " 1   movie              33 non-null     object \n",
      " 2   production_budget  33 non-null     int64  \n",
      " 3   domestic_gross     33 non-null     int64  \n",
      " 4   worldwide_gross    33 non-null     int64  \n",
      " 5   budget_gross_diff  33 non-null     int64  \n",
      " 6   release_year       33 non-null     int64  \n",
      " 7   primary_title      33 non-null     object \n",
      " 8   original_title     33 non-null     object \n",
      " 9   start_year         33 non-null     float64\n",
      " 10  runtime_minutes    33 non-null     float64\n",
      " 11  genres             33 non-null     object \n",
      "dtypes: float64(2), int64(5), object(5)\n",
      "memory usage: 3.4+ KB\n"
     ]
    }
   ],
   "source": [
    "movie_details_df2.info()"
   ]
  },
  {
   "cell_type": "markdown",
   "metadata": {},
   "source": [
    "We did lose information about some of the highest grossing films but those films were being matched inaccurately and that would've led us to having incorrect conclusions"
   ]
  },
  {
   "cell_type": "code",
   "execution_count": 53,
   "metadata": {
    "ExecuteTime": {
     "end_time": "2021-04-30T18:06:03.205970Z",
     "start_time": "2021-04-30T18:06:03.190565Z"
    }
   },
   "outputs": [
    {
     "data": {
      "text/html": [
       "<div>\n",
       "<style scoped>\n",
       "    .dataframe tbody tr th:only-of-type {\n",
       "        vertical-align: middle;\n",
       "    }\n",
       "\n",
       "    .dataframe tbody tr th {\n",
       "        vertical-align: top;\n",
       "    }\n",
       "\n",
       "    .dataframe thead th {\n",
       "        text-align: right;\n",
       "    }\n",
       "</style>\n",
       "<table border=\"1\" class=\"dataframe\">\n",
       "  <thead>\n",
       "    <tr style=\"text-align: right;\">\n",
       "      <th></th>\n",
       "      <th>release_date</th>\n",
       "      <th>movie</th>\n",
       "      <th>production_budget</th>\n",
       "      <th>domestic_gross</th>\n",
       "      <th>worldwide_gross</th>\n",
       "      <th>budget_gross_diff</th>\n",
       "      <th>release_year</th>\n",
       "      <th>primary_title</th>\n",
       "      <th>original_title</th>\n",
       "      <th>start_year</th>\n",
       "      <th>runtime_minutes</th>\n",
       "      <th>genres</th>\n",
       "    </tr>\n",
       "  </thead>\n",
       "  <tbody>\n",
       "    <tr>\n",
       "      <th>2</th>\n",
       "      <td>Apr 27, 2018</td>\n",
       "      <td>Avengers: Infinity War</td>\n",
       "      <td>300000000</td>\n",
       "      <td>678815482</td>\n",
       "      <td>2048134200</td>\n",
       "      <td>1748134200</td>\n",
       "      <td>2018</td>\n",
       "      <td>Avengers: Infinity War</td>\n",
       "      <td>Avengers: Infinity War</td>\n",
       "      <td>2018.0</td>\n",
       "      <td>149.0</td>\n",
       "      <td>Action,Adventure,Sci-Fi</td>\n",
       "    </tr>\n",
       "    <tr>\n",
       "      <th>4</th>\n",
       "      <td>Jun 12, 2015</td>\n",
       "      <td>Jurassic World</td>\n",
       "      <td>215000000</td>\n",
       "      <td>652270625</td>\n",
       "      <td>1648854864</td>\n",
       "      <td>1433854864</td>\n",
       "      <td>2015</td>\n",
       "      <td>Jurassic World</td>\n",
       "      <td>Jurassic World</td>\n",
       "      <td>2015.0</td>\n",
       "      <td>124.0</td>\n",
       "      <td>Action,Adventure,Sci-Fi</td>\n",
       "    </tr>\n",
       "    <tr>\n",
       "      <th>5</th>\n",
       "      <td>Apr 3, 2015</td>\n",
       "      <td>Furious 7</td>\n",
       "      <td>190000000</td>\n",
       "      <td>353007020</td>\n",
       "      <td>1518722794</td>\n",
       "      <td>1328722794</td>\n",
       "      <td>2015</td>\n",
       "      <td>Furious 7</td>\n",
       "      <td>Furious Seven</td>\n",
       "      <td>2015.0</td>\n",
       "      <td>137.0</td>\n",
       "      <td>Action,Crime,Thriller</td>\n",
       "    </tr>\n",
       "    <tr>\n",
       "      <th>6</th>\n",
       "      <td>May 4, 2012</td>\n",
       "      <td>The Avengers</td>\n",
       "      <td>225000000</td>\n",
       "      <td>623279547</td>\n",
       "      <td>1517935897</td>\n",
       "      <td>1292935897</td>\n",
       "      <td>2012</td>\n",
       "      <td>The Avengers</td>\n",
       "      <td>The Avengers</td>\n",
       "      <td>2012.0</td>\n",
       "      <td>143.0</td>\n",
       "      <td>Action,Adventure,Sci-Fi</td>\n",
       "    </tr>\n",
       "    <tr>\n",
       "      <th>8</th>\n",
       "      <td>Feb 16, 2018</td>\n",
       "      <td>Black Panther</td>\n",
       "      <td>200000000</td>\n",
       "      <td>700059566</td>\n",
       "      <td>1348258224</td>\n",
       "      <td>1148258224</td>\n",
       "      <td>2018</td>\n",
       "      <td>Black Panther</td>\n",
       "      <td>Black Panther</td>\n",
       "      <td>2018.0</td>\n",
       "      <td>134.0</td>\n",
       "      <td>Action,Adventure,Sci-Fi</td>\n",
       "    </tr>\n",
       "  </tbody>\n",
       "</table>\n",
       "</div>"
      ],
      "text/plain": [
       "   release_date                   movie  production_budget  domestic_gross  \\\n",
       "2  Apr 27, 2018  Avengers: Infinity War          300000000       678815482   \n",
       "4  Jun 12, 2015          Jurassic World          215000000       652270625   \n",
       "5   Apr 3, 2015               Furious 7          190000000       353007020   \n",
       "6   May 4, 2012            The Avengers          225000000       623279547   \n",
       "8  Feb 16, 2018           Black Panther          200000000       700059566   \n",
       "\n",
       "   worldwide_gross  budget_gross_diff  release_year           primary_title  \\\n",
       "2       2048134200         1748134200          2018  Avengers: Infinity War   \n",
       "4       1648854864         1433854864          2015          Jurassic World   \n",
       "5       1518722794         1328722794          2015               Furious 7   \n",
       "6       1517935897         1292935897          2012            The Avengers   \n",
       "8       1348258224         1148258224          2018           Black Panther   \n",
       "\n",
       "           original_title  start_year  runtime_minutes  \\\n",
       "2  Avengers: Infinity War      2018.0            149.0   \n",
       "4          Jurassic World      2015.0            124.0   \n",
       "5           Furious Seven      2015.0            137.0   \n",
       "6            The Avengers      2012.0            143.0   \n",
       "8           Black Panther      2018.0            134.0   \n",
       "\n",
       "                    genres  \n",
       "2  Action,Adventure,Sci-Fi  \n",
       "4  Action,Adventure,Sci-Fi  \n",
       "5    Action,Crime,Thriller  \n",
       "6  Action,Adventure,Sci-Fi  \n",
       "8  Action,Adventure,Sci-Fi  "
      ]
     },
     "execution_count": 53,
     "metadata": {},
     "output_type": "execute_result"
    }
   ],
   "source": [
    "movie_details_df2.head()"
   ]
  },
  {
   "cell_type": "code",
   "execution_count": 54,
   "metadata": {
    "ExecuteTime": {
     "end_time": "2021-04-30T18:06:03.210431Z",
     "start_time": "2021-04-30T18:06:03.208045Z"
    }
   },
   "outputs": [],
   "source": [
    "#movie_details_df2['genres'] = movie_details_df2['genres'].astype(str)"
   ]
  },
  {
   "cell_type": "markdown",
   "metadata": {},
   "source": [
    "### Creating a separate column for each genre"
   ]
  },
  {
   "cell_type": "code",
   "execution_count": 55,
   "metadata": {
    "ExecuteTime": {
     "end_time": "2021-04-30T18:06:03.217570Z",
     "start_time": "2021-04-30T18:06:03.214058Z"
    }
   },
   "outputs": [],
   "source": [
    "#genre is a list of upto 3 genres, splitting it to get the individual genres\n",
    "\n",
    "movie_details_df2['genres'] = movie_details_df2['genres'].apply(lambda x: x.split(\",\") if x else x)"
   ]
  },
  {
   "cell_type": "code",
   "execution_count": 56,
   "metadata": {
    "ExecuteTime": {
     "end_time": "2021-04-30T18:06:03.241406Z",
     "start_time": "2021-04-30T18:06:03.219719Z"
    }
   },
   "outputs": [
    {
     "data": {
      "text/html": [
       "<div>\n",
       "<style scoped>\n",
       "    .dataframe tbody tr th:only-of-type {\n",
       "        vertical-align: middle;\n",
       "    }\n",
       "\n",
       "    .dataframe tbody tr th {\n",
       "        vertical-align: top;\n",
       "    }\n",
       "\n",
       "    .dataframe thead th {\n",
       "        text-align: right;\n",
       "    }\n",
       "</style>\n",
       "<table border=\"1\" class=\"dataframe\">\n",
       "  <thead>\n",
       "    <tr style=\"text-align: right;\">\n",
       "      <th></th>\n",
       "      <th>release_date</th>\n",
       "      <th>movie</th>\n",
       "      <th>production_budget</th>\n",
       "      <th>domestic_gross</th>\n",
       "      <th>worldwide_gross</th>\n",
       "      <th>budget_gross_diff</th>\n",
       "      <th>release_year</th>\n",
       "      <th>primary_title</th>\n",
       "      <th>original_title</th>\n",
       "      <th>start_year</th>\n",
       "      <th>runtime_minutes</th>\n",
       "      <th>genres</th>\n",
       "    </tr>\n",
       "  </thead>\n",
       "  <tbody>\n",
       "    <tr>\n",
       "      <th>2</th>\n",
       "      <td>Apr 27, 2018</td>\n",
       "      <td>Avengers: Infinity War</td>\n",
       "      <td>300000000</td>\n",
       "      <td>678815482</td>\n",
       "      <td>2048134200</td>\n",
       "      <td>1748134200</td>\n",
       "      <td>2018</td>\n",
       "      <td>Avengers: Infinity War</td>\n",
       "      <td>Avengers: Infinity War</td>\n",
       "      <td>2018.0</td>\n",
       "      <td>149.0</td>\n",
       "      <td>[Action, Adventure, Sci-Fi]</td>\n",
       "    </tr>\n",
       "    <tr>\n",
       "      <th>4</th>\n",
       "      <td>Jun 12, 2015</td>\n",
       "      <td>Jurassic World</td>\n",
       "      <td>215000000</td>\n",
       "      <td>652270625</td>\n",
       "      <td>1648854864</td>\n",
       "      <td>1433854864</td>\n",
       "      <td>2015</td>\n",
       "      <td>Jurassic World</td>\n",
       "      <td>Jurassic World</td>\n",
       "      <td>2015.0</td>\n",
       "      <td>124.0</td>\n",
       "      <td>[Action, Adventure, Sci-Fi]</td>\n",
       "    </tr>\n",
       "    <tr>\n",
       "      <th>5</th>\n",
       "      <td>Apr 3, 2015</td>\n",
       "      <td>Furious 7</td>\n",
       "      <td>190000000</td>\n",
       "      <td>353007020</td>\n",
       "      <td>1518722794</td>\n",
       "      <td>1328722794</td>\n",
       "      <td>2015</td>\n",
       "      <td>Furious 7</td>\n",
       "      <td>Furious Seven</td>\n",
       "      <td>2015.0</td>\n",
       "      <td>137.0</td>\n",
       "      <td>[Action, Crime, Thriller]</td>\n",
       "    </tr>\n",
       "    <tr>\n",
       "      <th>6</th>\n",
       "      <td>May 4, 2012</td>\n",
       "      <td>The Avengers</td>\n",
       "      <td>225000000</td>\n",
       "      <td>623279547</td>\n",
       "      <td>1517935897</td>\n",
       "      <td>1292935897</td>\n",
       "      <td>2012</td>\n",
       "      <td>The Avengers</td>\n",
       "      <td>The Avengers</td>\n",
       "      <td>2012.0</td>\n",
       "      <td>143.0</td>\n",
       "      <td>[Action, Adventure, Sci-Fi]</td>\n",
       "    </tr>\n",
       "    <tr>\n",
       "      <th>8</th>\n",
       "      <td>Feb 16, 2018</td>\n",
       "      <td>Black Panther</td>\n",
       "      <td>200000000</td>\n",
       "      <td>700059566</td>\n",
       "      <td>1348258224</td>\n",
       "      <td>1148258224</td>\n",
       "      <td>2018</td>\n",
       "      <td>Black Panther</td>\n",
       "      <td>Black Panther</td>\n",
       "      <td>2018.0</td>\n",
       "      <td>134.0</td>\n",
       "      <td>[Action, Adventure, Sci-Fi]</td>\n",
       "    </tr>\n",
       "  </tbody>\n",
       "</table>\n",
       "</div>"
      ],
      "text/plain": [
       "   release_date                   movie  production_budget  domestic_gross  \\\n",
       "2  Apr 27, 2018  Avengers: Infinity War          300000000       678815482   \n",
       "4  Jun 12, 2015          Jurassic World          215000000       652270625   \n",
       "5   Apr 3, 2015               Furious 7          190000000       353007020   \n",
       "6   May 4, 2012            The Avengers          225000000       623279547   \n",
       "8  Feb 16, 2018           Black Panther          200000000       700059566   \n",
       "\n",
       "   worldwide_gross  budget_gross_diff  release_year           primary_title  \\\n",
       "2       2048134200         1748134200          2018  Avengers: Infinity War   \n",
       "4       1648854864         1433854864          2015          Jurassic World   \n",
       "5       1518722794         1328722794          2015               Furious 7   \n",
       "6       1517935897         1292935897          2012            The Avengers   \n",
       "8       1348258224         1148258224          2018           Black Panther   \n",
       "\n",
       "           original_title  start_year  runtime_minutes  \\\n",
       "2  Avengers: Infinity War      2018.0            149.0   \n",
       "4          Jurassic World      2015.0            124.0   \n",
       "5           Furious Seven      2015.0            137.0   \n",
       "6            The Avengers      2012.0            143.0   \n",
       "8           Black Panther      2018.0            134.0   \n",
       "\n",
       "                        genres  \n",
       "2  [Action, Adventure, Sci-Fi]  \n",
       "4  [Action, Adventure, Sci-Fi]  \n",
       "5    [Action, Crime, Thriller]  \n",
       "6  [Action, Adventure, Sci-Fi]  \n",
       "8  [Action, Adventure, Sci-Fi]  "
      ]
     },
     "execution_count": 56,
     "metadata": {},
     "output_type": "execute_result"
    }
   ],
   "source": [
    "movie_details_df2.head()"
   ]
  },
  {
   "cell_type": "code",
   "execution_count": 57,
   "metadata": {
    "ExecuteTime": {
     "end_time": "2021-04-30T18:06:03.253103Z",
     "start_time": "2021-04-30T18:06:03.244410Z"
    }
   },
   "outputs": [
    {
     "name": "stdout",
     "output_type": "stream",
     "text": [
      "<class 'pandas.core.frame.DataFrame'>\n",
      "Int64Index: 33 entries, 2 to 49\n",
      "Data columns (total 12 columns):\n",
      " #   Column             Non-Null Count  Dtype  \n",
      "---  ------             --------------  -----  \n",
      " 0   release_date       33 non-null     object \n",
      " 1   movie              33 non-null     object \n",
      " 2   production_budget  33 non-null     int64  \n",
      " 3   domestic_gross     33 non-null     int64  \n",
      " 4   worldwide_gross    33 non-null     int64  \n",
      " 5   budget_gross_diff  33 non-null     int64  \n",
      " 6   release_year       33 non-null     int64  \n",
      " 7   primary_title      33 non-null     object \n",
      " 8   original_title     33 non-null     object \n",
      " 9   start_year         33 non-null     float64\n",
      " 10  runtime_minutes    33 non-null     float64\n",
      " 11  genres             33 non-null     object \n",
      "dtypes: float64(2), int64(5), object(5)\n",
      "memory usage: 3.4+ KB\n"
     ]
    }
   ],
   "source": [
    "movie_details_df2.info()"
   ]
  },
  {
   "cell_type": "code",
   "execution_count": 58,
   "metadata": {
    "ExecuteTime": {
     "end_time": "2021-04-30T18:06:03.257172Z",
     "start_time": "2021-04-30T18:06:03.254675Z"
    }
   },
   "outputs": [],
   "source": [
    "#making a set of all genres we have. set doesn't allow duplicate values\n",
    "\n",
    "all_genres = set()\n",
    "for genres in movie_details_df2['genres']:\n",
    "    if genres:\n",
    "        all_genres.update(genres)"
   ]
  },
  {
   "cell_type": "code",
   "execution_count": 59,
   "metadata": {
    "ExecuteTime": {
     "end_time": "2021-04-30T18:06:03.265486Z",
     "start_time": "2021-04-30T18:06:03.259802Z"
    }
   },
   "outputs": [
    {
     "data": {
      "text/plain": [
       "{'Action',\n",
       " 'Adventure',\n",
       " 'Animation',\n",
       " 'Biography',\n",
       " 'Comedy',\n",
       " 'Crime',\n",
       " 'Drama',\n",
       " 'Family',\n",
       " 'Fantasy',\n",
       " 'Music',\n",
       " 'Musical',\n",
       " 'Sci-Fi',\n",
       " 'Thriller'}"
      ]
     },
     "execution_count": 59,
     "metadata": {},
     "output_type": "execute_result"
    }
   ],
   "source": [
    "all_genres"
   ]
  },
  {
   "cell_type": "code",
   "execution_count": 60,
   "metadata": {
    "ExecuteTime": {
     "end_time": "2021-04-30T18:06:03.301931Z",
     "start_time": "2021-04-30T18:06:03.267778Z"
    }
   },
   "outputs": [
    {
     "data": {
      "text/html": [
       "<div>\n",
       "<style scoped>\n",
       "    .dataframe tbody tr th:only-of-type {\n",
       "        vertical-align: middle;\n",
       "    }\n",
       "\n",
       "    .dataframe tbody tr th {\n",
       "        vertical-align: top;\n",
       "    }\n",
       "\n",
       "    .dataframe thead th {\n",
       "        text-align: right;\n",
       "    }\n",
       "</style>\n",
       "<table border=\"1\" class=\"dataframe\">\n",
       "  <thead>\n",
       "    <tr style=\"text-align: right;\">\n",
       "      <th></th>\n",
       "      <th>release_date</th>\n",
       "      <th>movie</th>\n",
       "      <th>production_budget</th>\n",
       "      <th>domestic_gross</th>\n",
       "      <th>worldwide_gross</th>\n",
       "      <th>budget_gross_diff</th>\n",
       "      <th>release_year</th>\n",
       "      <th>primary_title</th>\n",
       "      <th>original_title</th>\n",
       "      <th>start_year</th>\n",
       "      <th>...</th>\n",
       "      <th>Animation</th>\n",
       "      <th>Music</th>\n",
       "      <th>Comedy</th>\n",
       "      <th>Sci-Fi</th>\n",
       "      <th>Biography</th>\n",
       "      <th>Crime</th>\n",
       "      <th>Thriller</th>\n",
       "      <th>Musical</th>\n",
       "      <th>Adventure</th>\n",
       "      <th>Action</th>\n",
       "    </tr>\n",
       "  </thead>\n",
       "  <tbody>\n",
       "    <tr>\n",
       "      <th>2</th>\n",
       "      <td>Apr 27, 2018</td>\n",
       "      <td>Avengers: Infinity War</td>\n",
       "      <td>300000000</td>\n",
       "      <td>678815482</td>\n",
       "      <td>2048134200</td>\n",
       "      <td>1748134200</td>\n",
       "      <td>2018</td>\n",
       "      <td>Avengers: Infinity War</td>\n",
       "      <td>Avengers: Infinity War</td>\n",
       "      <td>2018.0</td>\n",
       "      <td>...</td>\n",
       "      <td>0.0</td>\n",
       "      <td>0.0</td>\n",
       "      <td>0.0</td>\n",
       "      <td>0.0</td>\n",
       "      <td>0.0</td>\n",
       "      <td>0.0</td>\n",
       "      <td>0.0</td>\n",
       "      <td>0.0</td>\n",
       "      <td>0.0</td>\n",
       "      <td>0.0</td>\n",
       "    </tr>\n",
       "    <tr>\n",
       "      <th>4</th>\n",
       "      <td>Jun 12, 2015</td>\n",
       "      <td>Jurassic World</td>\n",
       "      <td>215000000</td>\n",
       "      <td>652270625</td>\n",
       "      <td>1648854864</td>\n",
       "      <td>1433854864</td>\n",
       "      <td>2015</td>\n",
       "      <td>Jurassic World</td>\n",
       "      <td>Jurassic World</td>\n",
       "      <td>2015.0</td>\n",
       "      <td>...</td>\n",
       "      <td>0.0</td>\n",
       "      <td>0.0</td>\n",
       "      <td>0.0</td>\n",
       "      <td>0.0</td>\n",
       "      <td>0.0</td>\n",
       "      <td>0.0</td>\n",
       "      <td>0.0</td>\n",
       "      <td>0.0</td>\n",
       "      <td>0.0</td>\n",
       "      <td>0.0</td>\n",
       "    </tr>\n",
       "    <tr>\n",
       "      <th>5</th>\n",
       "      <td>Apr 3, 2015</td>\n",
       "      <td>Furious 7</td>\n",
       "      <td>190000000</td>\n",
       "      <td>353007020</td>\n",
       "      <td>1518722794</td>\n",
       "      <td>1328722794</td>\n",
       "      <td>2015</td>\n",
       "      <td>Furious 7</td>\n",
       "      <td>Furious Seven</td>\n",
       "      <td>2015.0</td>\n",
       "      <td>...</td>\n",
       "      <td>0.0</td>\n",
       "      <td>0.0</td>\n",
       "      <td>0.0</td>\n",
       "      <td>0.0</td>\n",
       "      <td>0.0</td>\n",
       "      <td>0.0</td>\n",
       "      <td>0.0</td>\n",
       "      <td>0.0</td>\n",
       "      <td>0.0</td>\n",
       "      <td>0.0</td>\n",
       "    </tr>\n",
       "    <tr>\n",
       "      <th>6</th>\n",
       "      <td>May 4, 2012</td>\n",
       "      <td>The Avengers</td>\n",
       "      <td>225000000</td>\n",
       "      <td>623279547</td>\n",
       "      <td>1517935897</td>\n",
       "      <td>1292935897</td>\n",
       "      <td>2012</td>\n",
       "      <td>The Avengers</td>\n",
       "      <td>The Avengers</td>\n",
       "      <td>2012.0</td>\n",
       "      <td>...</td>\n",
       "      <td>0.0</td>\n",
       "      <td>0.0</td>\n",
       "      <td>0.0</td>\n",
       "      <td>0.0</td>\n",
       "      <td>0.0</td>\n",
       "      <td>0.0</td>\n",
       "      <td>0.0</td>\n",
       "      <td>0.0</td>\n",
       "      <td>0.0</td>\n",
       "      <td>0.0</td>\n",
       "    </tr>\n",
       "    <tr>\n",
       "      <th>8</th>\n",
       "      <td>Feb 16, 2018</td>\n",
       "      <td>Black Panther</td>\n",
       "      <td>200000000</td>\n",
       "      <td>700059566</td>\n",
       "      <td>1348258224</td>\n",
       "      <td>1148258224</td>\n",
       "      <td>2018</td>\n",
       "      <td>Black Panther</td>\n",
       "      <td>Black Panther</td>\n",
       "      <td>2018.0</td>\n",
       "      <td>...</td>\n",
       "      <td>0.0</td>\n",
       "      <td>0.0</td>\n",
       "      <td>0.0</td>\n",
       "      <td>0.0</td>\n",
       "      <td>0.0</td>\n",
       "      <td>0.0</td>\n",
       "      <td>0.0</td>\n",
       "      <td>0.0</td>\n",
       "      <td>0.0</td>\n",
       "      <td>0.0</td>\n",
       "    </tr>\n",
       "  </tbody>\n",
       "</table>\n",
       "<p>5 rows × 25 columns</p>\n",
       "</div>"
      ],
      "text/plain": [
       "   release_date                   movie  production_budget  domestic_gross  \\\n",
       "2  Apr 27, 2018  Avengers: Infinity War          300000000       678815482   \n",
       "4  Jun 12, 2015          Jurassic World          215000000       652270625   \n",
       "5   Apr 3, 2015               Furious 7          190000000       353007020   \n",
       "6   May 4, 2012            The Avengers          225000000       623279547   \n",
       "8  Feb 16, 2018           Black Panther          200000000       700059566   \n",
       "\n",
       "   worldwide_gross  budget_gross_diff  release_year           primary_title  \\\n",
       "2       2048134200         1748134200          2018  Avengers: Infinity War   \n",
       "4       1648854864         1433854864          2015          Jurassic World   \n",
       "5       1518722794         1328722794          2015               Furious 7   \n",
       "6       1517935897         1292935897          2012            The Avengers   \n",
       "8       1348258224         1148258224          2018           Black Panther   \n",
       "\n",
       "           original_title  start_year  ...  Animation Music  Comedy  Sci-Fi  \\\n",
       "2  Avengers: Infinity War      2018.0  ...        0.0   0.0     0.0     0.0   \n",
       "4          Jurassic World      2015.0  ...        0.0   0.0     0.0     0.0   \n",
       "5           Furious Seven      2015.0  ...        0.0   0.0     0.0     0.0   \n",
       "6            The Avengers      2012.0  ...        0.0   0.0     0.0     0.0   \n",
       "8           Black Panther      2018.0  ...        0.0   0.0     0.0     0.0   \n",
       "\n",
       "   Biography  Crime  Thriller  Musical  Adventure  Action  \n",
       "2        0.0    0.0       0.0      0.0        0.0     0.0  \n",
       "4        0.0    0.0       0.0      0.0        0.0     0.0  \n",
       "5        0.0    0.0       0.0      0.0        0.0     0.0  \n",
       "6        0.0    0.0       0.0      0.0        0.0     0.0  \n",
       "8        0.0    0.0       0.0      0.0        0.0     0.0  \n",
       "\n",
       "[5 rows x 25 columns]"
      ]
     },
     "execution_count": 60,
     "metadata": {},
     "output_type": "execute_result"
    }
   ],
   "source": [
    "#adding cols with zeros for all the genres we have. Will modify genre to 1 if the film is of that genre.\n",
    "\n",
    "for genre in all_genres:\n",
    "    movie_details_df2[genre] = np.zeros(shape=movie_details_df2.shape[0])\n",
    "                                \n",
    "movie_details_df2.head()"
   ]
  },
  {
   "cell_type": "code",
   "execution_count": 61,
   "metadata": {
    "ExecuteTime": {
     "end_time": "2021-04-30T18:06:03.365656Z",
     "start_time": "2021-04-30T18:06:03.304197Z"
    }
   },
   "outputs": [
    {
     "data": {
      "text/html": [
       "<div>\n",
       "<style scoped>\n",
       "    .dataframe tbody tr th:only-of-type {\n",
       "        vertical-align: middle;\n",
       "    }\n",
       "\n",
       "    .dataframe tbody tr th {\n",
       "        vertical-align: top;\n",
       "    }\n",
       "\n",
       "    .dataframe thead th {\n",
       "        text-align: right;\n",
       "    }\n",
       "</style>\n",
       "<table border=\"1\" class=\"dataframe\">\n",
       "  <thead>\n",
       "    <tr style=\"text-align: right;\">\n",
       "      <th></th>\n",
       "      <th>release_date</th>\n",
       "      <th>movie</th>\n",
       "      <th>production_budget</th>\n",
       "      <th>domestic_gross</th>\n",
       "      <th>worldwide_gross</th>\n",
       "      <th>budget_gross_diff</th>\n",
       "      <th>release_year</th>\n",
       "      <th>primary_title</th>\n",
       "      <th>original_title</th>\n",
       "      <th>start_year</th>\n",
       "      <th>...</th>\n",
       "      <th>Animation</th>\n",
       "      <th>Music</th>\n",
       "      <th>Comedy</th>\n",
       "      <th>Sci-Fi</th>\n",
       "      <th>Biography</th>\n",
       "      <th>Crime</th>\n",
       "      <th>Thriller</th>\n",
       "      <th>Musical</th>\n",
       "      <th>Adventure</th>\n",
       "      <th>Action</th>\n",
       "    </tr>\n",
       "  </thead>\n",
       "  <tbody>\n",
       "    <tr>\n",
       "      <th>2</th>\n",
       "      <td>Apr 27, 2018</td>\n",
       "      <td>Avengers: Infinity War</td>\n",
       "      <td>300000000</td>\n",
       "      <td>678815482</td>\n",
       "      <td>2048134200</td>\n",
       "      <td>1748134200</td>\n",
       "      <td>2018</td>\n",
       "      <td>Avengers: Infinity War</td>\n",
       "      <td>Avengers: Infinity War</td>\n",
       "      <td>2018.0</td>\n",
       "      <td>...</td>\n",
       "      <td>0.0</td>\n",
       "      <td>0.0</td>\n",
       "      <td>0.0</td>\n",
       "      <td>1.0</td>\n",
       "      <td>0.0</td>\n",
       "      <td>0.0</td>\n",
       "      <td>0.0</td>\n",
       "      <td>0.0</td>\n",
       "      <td>1.0</td>\n",
       "      <td>1.0</td>\n",
       "    </tr>\n",
       "    <tr>\n",
       "      <th>4</th>\n",
       "      <td>Jun 12, 2015</td>\n",
       "      <td>Jurassic World</td>\n",
       "      <td>215000000</td>\n",
       "      <td>652270625</td>\n",
       "      <td>1648854864</td>\n",
       "      <td>1433854864</td>\n",
       "      <td>2015</td>\n",
       "      <td>Jurassic World</td>\n",
       "      <td>Jurassic World</td>\n",
       "      <td>2015.0</td>\n",
       "      <td>...</td>\n",
       "      <td>0.0</td>\n",
       "      <td>0.0</td>\n",
       "      <td>0.0</td>\n",
       "      <td>1.0</td>\n",
       "      <td>0.0</td>\n",
       "      <td>0.0</td>\n",
       "      <td>0.0</td>\n",
       "      <td>0.0</td>\n",
       "      <td>1.0</td>\n",
       "      <td>1.0</td>\n",
       "    </tr>\n",
       "    <tr>\n",
       "      <th>5</th>\n",
       "      <td>Apr 3, 2015</td>\n",
       "      <td>Furious 7</td>\n",
       "      <td>190000000</td>\n",
       "      <td>353007020</td>\n",
       "      <td>1518722794</td>\n",
       "      <td>1328722794</td>\n",
       "      <td>2015</td>\n",
       "      <td>Furious 7</td>\n",
       "      <td>Furious Seven</td>\n",
       "      <td>2015.0</td>\n",
       "      <td>...</td>\n",
       "      <td>0.0</td>\n",
       "      <td>0.0</td>\n",
       "      <td>0.0</td>\n",
       "      <td>0.0</td>\n",
       "      <td>0.0</td>\n",
       "      <td>1.0</td>\n",
       "      <td>1.0</td>\n",
       "      <td>0.0</td>\n",
       "      <td>0.0</td>\n",
       "      <td>1.0</td>\n",
       "    </tr>\n",
       "    <tr>\n",
       "      <th>6</th>\n",
       "      <td>May 4, 2012</td>\n",
       "      <td>The Avengers</td>\n",
       "      <td>225000000</td>\n",
       "      <td>623279547</td>\n",
       "      <td>1517935897</td>\n",
       "      <td>1292935897</td>\n",
       "      <td>2012</td>\n",
       "      <td>The Avengers</td>\n",
       "      <td>The Avengers</td>\n",
       "      <td>2012.0</td>\n",
       "      <td>...</td>\n",
       "      <td>0.0</td>\n",
       "      <td>0.0</td>\n",
       "      <td>0.0</td>\n",
       "      <td>1.0</td>\n",
       "      <td>0.0</td>\n",
       "      <td>0.0</td>\n",
       "      <td>0.0</td>\n",
       "      <td>0.0</td>\n",
       "      <td>1.0</td>\n",
       "      <td>1.0</td>\n",
       "    </tr>\n",
       "    <tr>\n",
       "      <th>8</th>\n",
       "      <td>Feb 16, 2018</td>\n",
       "      <td>Black Panther</td>\n",
       "      <td>200000000</td>\n",
       "      <td>700059566</td>\n",
       "      <td>1348258224</td>\n",
       "      <td>1148258224</td>\n",
       "      <td>2018</td>\n",
       "      <td>Black Panther</td>\n",
       "      <td>Black Panther</td>\n",
       "      <td>2018.0</td>\n",
       "      <td>...</td>\n",
       "      <td>0.0</td>\n",
       "      <td>0.0</td>\n",
       "      <td>0.0</td>\n",
       "      <td>1.0</td>\n",
       "      <td>0.0</td>\n",
       "      <td>0.0</td>\n",
       "      <td>0.0</td>\n",
       "      <td>0.0</td>\n",
       "      <td>1.0</td>\n",
       "      <td>1.0</td>\n",
       "    </tr>\n",
       "  </tbody>\n",
       "</table>\n",
       "<p>5 rows × 25 columns</p>\n",
       "</div>"
      ],
      "text/plain": [
       "   release_date                   movie  production_budget  domestic_gross  \\\n",
       "2  Apr 27, 2018  Avengers: Infinity War          300000000       678815482   \n",
       "4  Jun 12, 2015          Jurassic World          215000000       652270625   \n",
       "5   Apr 3, 2015               Furious 7          190000000       353007020   \n",
       "6   May 4, 2012            The Avengers          225000000       623279547   \n",
       "8  Feb 16, 2018           Black Panther          200000000       700059566   \n",
       "\n",
       "   worldwide_gross  budget_gross_diff  release_year           primary_title  \\\n",
       "2       2048134200         1748134200          2018  Avengers: Infinity War   \n",
       "4       1648854864         1433854864          2015          Jurassic World   \n",
       "5       1518722794         1328722794          2015               Furious 7   \n",
       "6       1517935897         1292935897          2012            The Avengers   \n",
       "8       1348258224         1148258224          2018           Black Panther   \n",
       "\n",
       "           original_title  start_year  ...  Animation Music  Comedy  Sci-Fi  \\\n",
       "2  Avengers: Infinity War      2018.0  ...        0.0   0.0     0.0     1.0   \n",
       "4          Jurassic World      2015.0  ...        0.0   0.0     0.0     1.0   \n",
       "5           Furious Seven      2015.0  ...        0.0   0.0     0.0     0.0   \n",
       "6            The Avengers      2012.0  ...        0.0   0.0     0.0     1.0   \n",
       "8           Black Panther      2018.0  ...        0.0   0.0     0.0     1.0   \n",
       "\n",
       "   Biography  Crime  Thriller  Musical  Adventure  Action  \n",
       "2        0.0    0.0       0.0      0.0        1.0     1.0  \n",
       "4        0.0    0.0       0.0      0.0        1.0     1.0  \n",
       "5        0.0    1.0       1.0      0.0        0.0     1.0  \n",
       "6        0.0    0.0       0.0      0.0        1.0     1.0  \n",
       "8        0.0    0.0       0.0      0.0        1.0     1.0  \n",
       "\n",
       "[5 rows x 25 columns]"
      ]
     },
     "execution_count": 61,
     "metadata": {},
     "output_type": "execute_result"
    }
   ],
   "source": [
    "#setting the genre to be 1 if the film is of that genre\n",
    "\n",
    "for index, row in movie_details_df2.iterrows():\n",
    "    if row['genres']:\n",
    "        for genre in row['genres']:\n",
    "            movie_details_df2.loc[index, genre] = 1\n",
    "\n",
    "movie_details_df2.head()"
   ]
  },
  {
   "cell_type": "code",
   "execution_count": 62,
   "metadata": {
    "ExecuteTime": {
     "end_time": "2021-04-30T18:06:03.375789Z",
     "start_time": "2021-04-30T18:06:03.370148Z"
    }
   },
   "outputs": [],
   "source": [
    "movie_details_df_modified = movie_details_df2.drop(columns = 'genres')"
   ]
  },
  {
   "cell_type": "code",
   "execution_count": 63,
   "metadata": {
    "ExecuteTime": {
     "end_time": "2021-04-30T18:06:03.434056Z",
     "start_time": "2021-04-30T18:06:03.379097Z"
    }
   },
   "outputs": [
    {
     "name": "stdout",
     "output_type": "stream",
     "text": [
      "Viewing values in col: release_date\n",
      "Top 5 values:\n",
      "Mar 5, 2010     2\n",
      "Jul 8, 2016     1\n",
      "Dec 20, 2017    1\n",
      "Jun 17, 2016    1\n",
      "Apr 27, 2018    1\n",
      "Mar 8, 2019     1\n",
      "Jun 12, 2015    1\n",
      "Apr 15, 2016    1\n",
      "Dec 21, 2018    1\n",
      "Jul 13, 2012    1\n",
      "Mar 17, 2017    1\n",
      "Jun 29, 2011    1\n",
      "Jun 18, 2010    1\n",
      "Apr 3, 2015     1\n",
      "Dec 16, 2016    1\n",
      "Nov 8, 2012     1\n",
      "Jul 10, 2015    1\n",
      "May 4, 2012     1\n",
      "Apr 14, 2017    1\n",
      "Jul 20, 2012    1\n",
      "Nov 2, 2018     1\n",
      "Jun 15, 2018    1\n",
      "Nov 22, 2013    1\n",
      "Jul 3, 2013     1\n",
      "May 6, 2016     1\n",
      "Jun 27, 2014    1\n",
      "Feb 16, 2018    1\n",
      "Mar 4, 2016     1\n",
      "May 1, 2015     1\n",
      "Jun 22, 2018    1\n",
      "May 3, 2013     1\n",
      "Jun 30, 2017    1\n",
      "Name: release_date, dtype: int64\n",
      "Viewing values in col: movie\n",
      "Top 5 values:\n",
      "Alice in Wonderland                2\n",
      "Iron Man 3                         1\n",
      "Black Panther                      1\n",
      "The Fate of the Furious            1\n",
      "Captain America: Civil War         1\n",
      "The Secret Life of Pets            1\n",
      "The Dark Knight Rises              1\n",
      "Furious 7                          1\n",
      "Beauty and the Beast               1\n",
      "Frozen                             1\n",
      "Avengers: Age of Ultron            1\n",
      "Transformers: Dark of the Moon     1\n",
      "Aquaman                            1\n",
      "Zootopia                           1\n",
      "Transformers: Age of Extinction    1\n",
      "Jumanji: Welcome to the Jungle     1\n",
      "Despicable Me 3                    1\n",
      "Finding Dory                       1\n",
      "The Avengers                       1\n",
      "Jurassic World: Fallen Kingdom     1\n",
      "Despicable Me 2                    1\n",
      "Ice Age: Continental Drift         1\n",
      "The Jungle Book                    1\n",
      "Avengers: Infinity War             1\n",
      "Minions                            1\n",
      "Toy Story 3                        1\n",
      "Incredibles 2                      1\n",
      "Bohemian Rhapsody                  1\n",
      "Skyfall                            1\n",
      "Rogue One: A Star Wars Story       1\n",
      "Captain Marvel                     1\n",
      "Jurassic World                     1\n",
      "Name: movie, dtype: int64\n",
      "Viewing values in col: production_budget\n",
      "Top 5 values:\n",
      "200000000    9\n",
      "75000000     2\n",
      "175000000    2\n",
      "160000000    2\n",
      "250000000    2\n",
      "150000000    2\n",
      "210000000    1\n",
      "225000000    1\n",
      "195000000    1\n",
      "170000000    1\n",
      "330600000    1\n",
      "215000000    1\n",
      "74000000     1\n",
      "95000000     1\n",
      "76000000     1\n",
      "275000000    1\n",
      "90000000     1\n",
      "55000000     1\n",
      "190000000    1\n",
      "300000000    1\n",
      "Name: production_budget, dtype: int64\n",
      "Viewing values in col: domestic_gross\n",
      "Top 5 values:\n",
      "334191110    2\n",
      "408084349    1\n",
      "623279547    1\n",
      "459005868    1\n",
      "368384330    1\n",
      "486295561    1\n",
      "336045770    1\n",
      "352390543    1\n",
      "417719760    1\n",
      "408992272    1\n",
      "504014165    1\n",
      "264624300    1\n",
      "304360277    1\n",
      "400738009    1\n",
      "448139099    1\n",
      "225764765    1\n",
      "341268248    1\n",
      "652270625    1\n",
      "364001123    1\n",
      "245439076    1\n",
      "368065385    1\n",
      "532177324    1\n",
      "415004880    1\n",
      "353007020    1\n",
      "700059566    1\n",
      "335061807    1\n",
      "608581744    1\n",
      "161321843    1\n",
      "404508916    1\n",
      "216303339    1\n",
      "678815482    1\n",
      "426525952    1\n",
      "Name: domestic_gross, dtype: int64\n",
      "Viewing values in col: worldwide_gross\n",
      "Top 5 values:\n",
      "1025491110    2\n",
      "1305772799    1\n",
      "1146894640    1\n",
      "975216835     1\n",
      "1110526981    1\n",
      "1034727750    1\n",
      "1242520711    1\n",
      "1049102856    1\n",
      "1403013963    1\n",
      "1021215193    1\n",
      "1019429616    1\n",
      "1123790543    1\n",
      "1648854864    1\n",
      "879765137     1\n",
      "1215392272    1\n",
      "1272469910    1\n",
      "1517935897    1\n",
      "894985342     1\n",
      "1259199706    1\n",
      "962854547     1\n",
      "886750534     1\n",
      "1068879522    1\n",
      "1104039076    1\n",
      "1140069413    1\n",
      "1518722794    1\n",
      "1160336173    1\n",
      "1123061550    1\n",
      "1348258224    1\n",
      "2048134200    1\n",
      "1084439099    1\n",
      "1234846267    1\n",
      "964496193     1\n",
      "Name: worldwide_gross, dtype: int64\n",
      "Viewing values in col: budget_gross_diff\n",
      "Top 5 values:\n",
      "825491110     2\n",
      "1135772799    1\n",
      "1292935897    1\n",
      "899216835     1\n",
      "910526981     1\n",
      "959727750     1\n",
      "1042520711    1\n",
      "849102856     1\n",
      "1072413963    1\n",
      "821215193     1\n",
      "928790543     1\n",
      "1433854864    1\n",
      "784765137     1\n",
      "1015392272    1\n",
      "1122469910    1\n",
      "986894640     1\n",
      "1099199706    1\n",
      "839985342     1\n",
      "787854547     1\n",
      "869429616     1\n",
      "868879522     1\n",
      "894039076     1\n",
      "890069413     1\n",
      "811750534     1\n",
      "1328722794    1\n",
      "1086336173    1\n",
      "948061550     1\n",
      "1148258224    1\n",
      "809439099     1\n",
      "1748134200    1\n",
      "984846267     1\n",
      "874496193     1\n",
      "Name: budget_gross_diff, dtype: int64\n",
      "Viewing values in col: release_year\n",
      "Top 5 values:\n",
      "2018    6\n",
      "2016    6\n",
      "2017    4\n",
      "2015    4\n",
      "2012    4\n",
      "2013    3\n",
      "2010    3\n",
      "2019    1\n",
      "2014    1\n",
      "2011    1\n",
      "Name: release_year, dtype: int64\n",
      "Viewing values in col: primary_title\n",
      "Top 5 values:\n",
      "Alice in Wonderland                2\n",
      "Iron Man 3                         1\n",
      "Black Panther                      1\n",
      "The Fate of the Furious            1\n",
      "Captain America: Civil War         1\n",
      "The Secret Life of Pets            1\n",
      "The Dark Knight Rises              1\n",
      "Furious 7                          1\n",
      "Beauty and the Beast               1\n",
      "Frozen                             1\n",
      "Avengers: Age of Ultron            1\n",
      "Transformers: Dark of the Moon     1\n",
      "Aquaman                            1\n",
      "Zootopia                           1\n",
      "Transformers: Age of Extinction    1\n",
      "Jumanji: Welcome to the Jungle     1\n",
      "Despicable Me 3                    1\n",
      "Finding Dory                       1\n",
      "The Avengers                       1\n",
      "Jurassic World: Fallen Kingdom     1\n",
      "Despicable Me 2                    1\n",
      "Ice Age: Continental Drift         1\n",
      "The Jungle Book                    1\n",
      "Avengers: Infinity War             1\n",
      "Minions                            1\n",
      "Toy Story 3                        1\n",
      "Incredibles 2                      1\n",
      "Bohemian Rhapsody                  1\n",
      "Skyfall                            1\n",
      "Rogue One: A Star Wars Story       1\n",
      "Captain Marvel                     1\n",
      "Jurassic World                     1\n",
      "Name: primary_title, dtype: int64\n",
      "Viewing values in col: original_title\n",
      "Top 5 values:\n",
      "Alice in Wonderland                2\n",
      "Iron Man Three                     1\n",
      "Black Panther                      1\n",
      "The Fate of the Furious            1\n",
      "Captain America: Civil War         1\n",
      "The Secret Life of Pets            1\n",
      "The Dark Knight Rises              1\n",
      "Ice Age: Continental Drift         1\n",
      "Beauty and the Beast               1\n",
      "Frozen                             1\n",
      "Avengers: Age of Ultron            1\n",
      "Transformers: Dark of the Moon     1\n",
      "Aquaman                            1\n",
      "Zootopia                           1\n",
      "Transformers: Age of Extinction    1\n",
      "Jumanji: Welcome to the Jungle     1\n",
      "Despicable Me 3                    1\n",
      "Finding Dory                       1\n",
      "The Avengers                       1\n",
      "Jurassic World: Fallen Kingdom     1\n",
      "Despicable Me 2                    1\n",
      "The Jungle Book                    1\n",
      "Avengers: Infinity War             1\n",
      "Rogue One                          1\n",
      "Minions                            1\n",
      "Toy Story 3                        1\n",
      "Incredibles 2                      1\n",
      "Furious Seven                      1\n",
      "Bohemian Rhapsody                  1\n",
      "Skyfall                            1\n",
      "Captain Marvel                     1\n",
      "Jurassic World                     1\n",
      "Name: original_title, dtype: int64\n",
      "Viewing values in col: start_year\n",
      "Top 5 values:\n",
      "2016.0    6\n",
      "2018.0    6\n",
      "2017.0    4\n",
      "2012.0    4\n",
      "2015.0    4\n",
      "2010.0    3\n",
      "2013.0    3\n",
      "2014.0    1\n",
      "2011.0    1\n",
      "2019.0    1\n",
      "Name: start_year, dtype: int64\n",
      "Viewing values in col: runtime_minutes\n",
      "Top 5 values:\n",
      "143.0    3\n",
      "134.0    2\n",
      "108.0    2\n",
      "88.0     1\n",
      "89.0     1\n",
      "124.0    1\n",
      "137.0    1\n",
      "128.0    1\n",
      "102.0    1\n",
      "129.0    1\n",
      "91.0     1\n",
      "141.0    1\n",
      "118.0    1\n",
      "130.0    1\n",
      "136.0    1\n",
      "123.0    1\n",
      "106.0    1\n",
      "154.0    1\n",
      "98.0     1\n",
      "165.0    1\n",
      "147.0    1\n",
      "119.0    1\n",
      "103.0    1\n",
      "133.0    1\n",
      "99.0     1\n",
      "97.0     1\n",
      "87.0     1\n",
      "164.0    1\n",
      "149.0    1\n",
      "Name: runtime_minutes, dtype: int64\n",
      "Viewing values in col: Drama\n",
      "Top 5 values:\n",
      "0.0    31\n",
      "1.0     2\n",
      "Name: Drama, dtype: int64\n",
      "Viewing values in col: Family\n",
      "Top 5 values:\n",
      "0.0    30\n",
      "1.0     3\n",
      "Name: Family, dtype: int64\n",
      "Viewing values in col: Fantasy\n",
      "Top 5 values:\n",
      "0.0    29\n",
      "1.0     4\n",
      "Name: Fantasy, dtype: int64\n",
      "Viewing values in col: Animation\n",
      "Top 5 values:\n",
      "0.0    23\n",
      "1.0    10\n",
      "Name: Animation, dtype: int64\n",
      "Viewing values in col: Music\n",
      "Top 5 values:\n",
      "0.0    32\n",
      "1.0     1\n",
      "Name: Music, dtype: int64\n",
      "Viewing values in col: Comedy\n",
      "Top 5 values:\n",
      "0.0    23\n",
      "1.0    10\n",
      "Name: Comedy, dtype: int64\n",
      "Viewing values in col: Sci-Fi\n",
      "Top 5 values:\n",
      "0.0    21\n",
      "1.0    12\n",
      "Name: Sci-Fi, dtype: int64\n",
      "Viewing values in col: Biography\n",
      "Top 5 values:\n",
      "0.0    32\n",
      "1.0     1\n",
      "Name: Biography, dtype: int64\n",
      "Viewing values in col: Crime\n",
      "Top 5 values:\n",
      "0.0    31\n",
      "1.0     2\n",
      "Name: Crime, dtype: int64\n",
      "Viewing values in col: Thriller\n",
      "Top 5 values:\n",
      "0.0    29\n",
      "1.0     4\n",
      "Name: Thriller, dtype: int64\n",
      "Viewing values in col: Musical\n",
      "Top 5 values:\n",
      "0.0    31\n",
      "1.0     2\n",
      "Name: Musical, dtype: int64\n",
      "Viewing values in col: Adventure\n",
      "Top 5 values:\n",
      "1.0    27\n",
      "0.0     6\n",
      "Name: Adventure, dtype: int64\n",
      "Viewing values in col: Action\n",
      "Top 5 values:\n",
      "1.0    19\n",
      "0.0    14\n",
      "Name: Action, dtype: int64\n"
     ]
    }
   ],
   "source": [
    "#checking the counts for all different genres\n",
    "\n",
    "for col in movie_details_df_modified:\n",
    "    print(f'Viewing values in col: {col}')\n",
    "    print(f'Top 5 values:\\n{movie_details_df_modified[col].value_counts()}')"
   ]
  },
  {
   "cell_type": "code",
   "execution_count": 64,
   "metadata": {
    "ExecuteTime": {
     "end_time": "2021-04-30T18:06:03.441065Z",
     "start_time": "2021-04-30T18:06:03.436243Z"
    }
   },
   "outputs": [],
   "source": [
    "#making a list of all genres\n",
    "\n",
    "cols = list(movie_details_df2.columns)"
   ]
  },
  {
   "cell_type": "code",
   "execution_count": 65,
   "metadata": {
    "ExecuteTime": {
     "end_time": "2021-04-30T18:06:03.447261Z",
     "start_time": "2021-04-30T18:06:03.444084Z"
    }
   },
   "outputs": [],
   "source": [
    "genre_cols = cols[12:]"
   ]
  },
  {
   "cell_type": "code",
   "execution_count": 66,
   "metadata": {
    "ExecuteTime": {
     "end_time": "2021-04-30T18:06:03.460437Z",
     "start_time": "2021-04-30T18:06:03.450858Z"
    }
   },
   "outputs": [],
   "source": [
    "#getting a dict with genre counts\n",
    "\n",
    "genre_count = {}\n",
    "for col in genre_cols:\n",
    "    count = np.sum(movie_details_df2[col] == 1).sum() \n",
    "    genre_count[col] = count"
   ]
  },
  {
   "cell_type": "code",
   "execution_count": 67,
   "metadata": {
    "ExecuteTime": {
     "end_time": "2021-04-30T18:06:03.468982Z",
     "start_time": "2021-04-30T18:06:03.464488Z"
    }
   },
   "outputs": [
    {
     "data": {
      "text/plain": [
       "{'Drama': 2,\n",
       " 'Family': 3,\n",
       " 'Fantasy': 4,\n",
       " 'Animation': 10,\n",
       " 'Music': 1,\n",
       " 'Comedy': 10,\n",
       " 'Sci-Fi': 12,\n",
       " 'Biography': 1,\n",
       " 'Crime': 2,\n",
       " 'Thriller': 4,\n",
       " 'Musical': 2,\n",
       " 'Adventure': 27,\n",
       " 'Action': 19}"
      ]
     },
     "execution_count": 67,
     "metadata": {},
     "output_type": "execute_result"
    }
   ],
   "source": [
    "genre_count"
   ]
  },
  {
   "cell_type": "code",
   "execution_count": 68,
   "metadata": {
    "ExecuteTime": {
     "end_time": "2021-04-30T18:06:03.495769Z",
     "start_time": "2021-04-30T18:06:03.490203Z"
    }
   },
   "outputs": [],
   "source": [
    "keys = list(genre_count.keys())\n",
    "values = list(genre_count.values())"
   ]
  },
  {
   "cell_type": "markdown",
   "metadata": {},
   "source": [
    "### Plot of movie counts by genre"
   ]
  },
  {
   "cell_type": "code",
   "execution_count": 69,
   "metadata": {
    "ExecuteTime": {
     "end_time": "2021-04-30T18:06:03.756767Z",
     "start_time": "2021-04-30T18:06:03.508713Z"
    }
   },
   "outputs": [
    {
     "data": {
      "text/plain": [
       "<AxesSubplot:>"
      ]
     },
     "execution_count": 69,
     "metadata": {},
     "output_type": "execute_result"
    },
    {
     "data": {
      "image/png": "[encoded data removed]",
      "text/plain": [
       "<Figure size 432x288 with 1 Axes>"
      ]
     },
     "metadata": {
      "needs_background": "light"
     },
     "output_type": "display_data"
    }
   ],
   "source": [
    "clrs = ['grey' if (x < max(values)) else 'red' for x in values ]\n",
    "sns.barplot(y = keys, x = values, palette=clrs)"
   ]
  },
  {
   "cell_type": "markdown",
   "metadata": {},
   "source": [
    "### Some cleaning of the df before further analysis"
   ]
  },
  {
   "cell_type": "code",
   "execution_count": 70,
   "metadata": {
    "ExecuteTime": {
     "end_time": "2021-04-30T18:06:03.769109Z",
     "start_time": "2021-04-30T18:06:03.759121Z"
    }
   },
   "outputs": [],
   "source": [
    "movie_details_df2.drop(columns=['genres'], inplace=True)"
   ]
  },
  {
   "cell_type": "code",
   "execution_count": 71,
   "metadata": {
    "ExecuteTime": {
     "end_time": "2021-04-30T18:06:03.781517Z",
     "start_time": "2021-04-30T18:06:03.771560Z"
    }
   },
   "outputs": [
    {
     "name": "stdout",
     "output_type": "stream",
     "text": [
      "<class 'pandas.core.frame.DataFrame'>\n",
      "Int64Index: 33 entries, 2 to 49\n",
      "Data columns (total 24 columns):\n",
      " #   Column             Non-Null Count  Dtype  \n",
      "---  ------             --------------  -----  \n",
      " 0   release_date       33 non-null     object \n",
      " 1   movie              33 non-null     object \n",
      " 2   production_budget  33 non-null     int64  \n",
      " 3   domestic_gross     33 non-null     int64  \n",
      " 4   worldwide_gross    33 non-null     int64  \n",
      " 5   budget_gross_diff  33 non-null     int64  \n",
      " 6   release_year       33 non-null     int64  \n",
      " 7   primary_title      33 non-null     object \n",
      " 8   original_title     33 non-null     object \n",
      " 9   start_year         33 non-null     float64\n",
      " 10  runtime_minutes    33 non-null     float64\n",
      " 11  Drama              33 non-null     float64\n",
      " 12  Family             33 non-null     float64\n",
      " 13  Fantasy            33 non-null     float64\n",
      " 14  Animation          33 non-null     float64\n",
      " 15  Music              33 non-null     float64\n",
      " 16  Comedy             33 non-null     float64\n",
      " 17  Sci-Fi             33 non-null     float64\n",
      " 18  Biography          33 non-null     float64\n",
      " 19  Crime              33 non-null     float64\n",
      " 20  Thriller           33 non-null     float64\n",
      " 21  Musical            33 non-null     float64\n",
      " 22  Adventure          33 non-null     float64\n",
      " 23  Action             33 non-null     float64\n",
      "dtypes: float64(15), int64(5), object(4)\n",
      "memory usage: 7.7+ KB\n"
     ]
    }
   ],
   "source": [
    "movie_details_df2.info()"
   ]
  },
  {
   "cell_type": "code",
   "execution_count": 72,
   "metadata": {
    "ExecuteTime": {
     "end_time": "2021-04-30T18:06:03.787999Z",
     "start_time": "2021-04-30T18:06:03.784533Z"
    }
   },
   "outputs": [],
   "source": [
    "movie_details_df2.drop(columns=['primary_title', 'original_title', 'start_year'], inplace=True)"
   ]
  },
  {
   "cell_type": "code",
   "execution_count": 73,
   "metadata": {
    "ExecuteTime": {
     "end_time": "2021-04-30T18:06:03.803597Z",
     "start_time": "2021-04-30T18:06:03.789753Z"
    }
   },
   "outputs": [
    {
     "name": "stdout",
     "output_type": "stream",
     "text": [
      "<class 'pandas.core.frame.DataFrame'>\n",
      "Int64Index: 33 entries, 2 to 49\n",
      "Data columns (total 21 columns):\n",
      " #   Column             Non-Null Count  Dtype  \n",
      "---  ------             --------------  -----  \n",
      " 0   release_date       33 non-null     object \n",
      " 1   movie              33 non-null     object \n",
      " 2   production_budget  33 non-null     int64  \n",
      " 3   domestic_gross     33 non-null     int64  \n",
      " 4   worldwide_gross    33 non-null     int64  \n",
      " 5   budget_gross_diff  33 non-null     int64  \n",
      " 6   release_year       33 non-null     int64  \n",
      " 7   runtime_minutes    33 non-null     float64\n",
      " 8   Drama              33 non-null     float64\n",
      " 9   Family             33 non-null     float64\n",
      " 10  Fantasy            33 non-null     float64\n",
      " 11  Animation          33 non-null     float64\n",
      " 12  Music              33 non-null     float64\n",
      " 13  Comedy             33 non-null     float64\n",
      " 14  Sci-Fi             33 non-null     float64\n",
      " 15  Biography          33 non-null     float64\n",
      " 16  Crime              33 non-null     float64\n",
      " 17  Thriller           33 non-null     float64\n",
      " 18  Musical            33 non-null     float64\n",
      " 19  Adventure          33 non-null     float64\n",
      " 20  Action             33 non-null     float64\n",
      "dtypes: float64(14), int64(5), object(2)\n",
      "memory usage: 6.9+ KB\n"
     ]
    }
   ],
   "source": [
    "movie_details_df2.info()"
   ]
  },
  {
   "cell_type": "code",
   "execution_count": 74,
   "metadata": {
    "ExecuteTime": {
     "end_time": "2021-04-30T18:06:03.809075Z",
     "start_time": "2021-04-30T18:06:03.805835Z"
    }
   },
   "outputs": [],
   "source": [
    "movie_details_df2.reset_index(inplace=True)"
   ]
  },
  {
   "cell_type": "code",
   "execution_count": 75,
   "metadata": {
    "ExecuteTime": {
     "end_time": "2021-04-30T18:06:03.820408Z",
     "start_time": "2021-04-30T18:06:03.810934Z"
    }
   },
   "outputs": [
    {
     "name": "stdout",
     "output_type": "stream",
     "text": [
      "<class 'pandas.core.frame.DataFrame'>\n",
      "RangeIndex: 33 entries, 0 to 32\n",
      "Data columns (total 22 columns):\n",
      " #   Column             Non-Null Count  Dtype  \n",
      "---  ------             --------------  -----  \n",
      " 0   index              33 non-null     int64  \n",
      " 1   release_date       33 non-null     object \n",
      " 2   movie              33 non-null     object \n",
      " 3   production_budget  33 non-null     int64  \n",
      " 4   domestic_gross     33 non-null     int64  \n",
      " 5   worldwide_gross    33 non-null     int64  \n",
      " 6   budget_gross_diff  33 non-null     int64  \n",
      " 7   release_year       33 non-null     int64  \n",
      " 8   runtime_minutes    33 non-null     float64\n",
      " 9   Drama              33 non-null     float64\n",
      " 10  Family             33 non-null     float64\n",
      " 11  Fantasy            33 non-null     float64\n",
      " 12  Animation          33 non-null     float64\n",
      " 13  Music              33 non-null     float64\n",
      " 14  Comedy             33 non-null     float64\n",
      " 15  Sci-Fi             33 non-null     float64\n",
      " 16  Biography          33 non-null     float64\n",
      " 17  Crime              33 non-null     float64\n",
      " 18  Thriller           33 non-null     float64\n",
      " 19  Musical            33 non-null     float64\n",
      " 20  Adventure          33 non-null     float64\n",
      " 21  Action             33 non-null     float64\n",
      "dtypes: float64(14), int64(6), object(2)\n",
      "memory usage: 5.8+ KB\n"
     ]
    }
   ],
   "source": [
    "movie_details_df2.info()"
   ]
  },
  {
   "cell_type": "code",
   "execution_count": 76,
   "metadata": {
    "ExecuteTime": {
     "end_time": "2021-04-30T18:06:03.833124Z",
     "start_time": "2021-04-30T18:06:03.822555Z"
    }
   },
   "outputs": [],
   "source": [
    "movie_details_df2.drop(columns=['index'], inplace= True)"
   ]
  },
  {
   "cell_type": "code",
   "execution_count": 77,
   "metadata": {
    "ExecuteTime": {
     "end_time": "2021-04-30T18:06:03.846600Z",
     "start_time": "2021-04-30T18:06:03.835789Z"
    }
   },
   "outputs": [
    {
     "name": "stdout",
     "output_type": "stream",
     "text": [
      "<class 'pandas.core.frame.DataFrame'>\n",
      "RangeIndex: 33 entries, 0 to 32\n",
      "Data columns (total 21 columns):\n",
      " #   Column             Non-Null Count  Dtype  \n",
      "---  ------             --------------  -----  \n",
      " 0   release_date       33 non-null     object \n",
      " 1   movie              33 non-null     object \n",
      " 2   production_budget  33 non-null     int64  \n",
      " 3   domestic_gross     33 non-null     int64  \n",
      " 4   worldwide_gross    33 non-null     int64  \n",
      " 5   budget_gross_diff  33 non-null     int64  \n",
      " 6   release_year       33 non-null     int64  \n",
      " 7   runtime_minutes    33 non-null     float64\n",
      " 8   Drama              33 non-null     float64\n",
      " 9   Family             33 non-null     float64\n",
      " 10  Fantasy            33 non-null     float64\n",
      " 11  Animation          33 non-null     float64\n",
      " 12  Music              33 non-null     float64\n",
      " 13  Comedy             33 non-null     float64\n",
      " 14  Sci-Fi             33 non-null     float64\n",
      " 15  Biography          33 non-null     float64\n",
      " 16  Crime              33 non-null     float64\n",
      " 17  Thriller           33 non-null     float64\n",
      " 18  Musical            33 non-null     float64\n",
      " 19  Adventure          33 non-null     float64\n",
      " 20  Action             33 non-null     float64\n",
      "dtypes: float64(14), int64(5), object(2)\n",
      "memory usage: 5.5+ KB\n"
     ]
    }
   ],
   "source": [
    "movie_details_df2.info()"
   ]
  },
  {
   "cell_type": "code",
   "execution_count": 79,
   "metadata": {
    "ExecuteTime": {
     "end_time": "2021-04-30T18:06:13.368281Z",
     "start_time": "2021-04-30T18:06:13.347578Z"
    }
   },
   "outputs": [],
   "source": [
    "df_test = pd.read_csv(\"zippedData/tn.movie_budgets.csv.gz\")"
   ]
  },
  {
   "cell_type": "code",
   "execution_count": 80,
   "metadata": {
    "ExecuteTime": {
     "end_time": "2021-04-30T18:06:13.747074Z",
     "start_time": "2021-04-30T18:06:13.734464Z"
    }
   },
   "outputs": [
    {
     "data": {
      "text/html": [
       "<div>\n",
       "<style scoped>\n",
       "    .dataframe tbody tr th:only-of-type {\n",
       "        vertical-align: middle;\n",
       "    }\n",
       "\n",
       "    .dataframe tbody tr th {\n",
       "        vertical-align: top;\n",
       "    }\n",
       "\n",
       "    .dataframe thead th {\n",
       "        text-align: right;\n",
       "    }\n",
       "</style>\n",
       "<table border=\"1\" class=\"dataframe\">\n",
       "  <thead>\n",
       "    <tr style=\"text-align: right;\">\n",
       "      <th></th>\n",
       "      <th>id</th>\n",
       "      <th>release_date</th>\n",
       "      <th>movie</th>\n",
       "      <th>production_budget</th>\n",
       "      <th>domestic_gross</th>\n",
       "      <th>worldwide_gross</th>\n",
       "    </tr>\n",
       "  </thead>\n",
       "  <tbody>\n",
       "    <tr>\n",
       "      <th>0</th>\n",
       "      <td>1</td>\n",
       "      <td>Dec 18, 2009</td>\n",
       "      <td>Avatar</td>\n",
       "      <td>$425,000,000</td>\n",
       "      <td>$760,507,625</td>\n",
       "      <td>$2,776,345,279</td>\n",
       "    </tr>\n",
       "    <tr>\n",
       "      <th>1</th>\n",
       "      <td>2</td>\n",
       "      <td>May 20, 2011</td>\n",
       "      <td>Pirates of the Caribbean: On Stranger Tides</td>\n",
       "      <td>$410,600,000</td>\n",
       "      <td>$241,063,875</td>\n",
       "      <td>$1,045,663,875</td>\n",
       "    </tr>\n",
       "    <tr>\n",
       "      <th>2</th>\n",
       "      <td>3</td>\n",
       "      <td>Jun 7, 2019</td>\n",
       "      <td>Dark Phoenix</td>\n",
       "      <td>$350,000,000</td>\n",
       "      <td>$42,762,350</td>\n",
       "      <td>$149,762,350</td>\n",
       "    </tr>\n",
       "    <tr>\n",
       "      <th>3</th>\n",
       "      <td>4</td>\n",
       "      <td>May 1, 2015</td>\n",
       "      <td>Avengers: Age of Ultron</td>\n",
       "      <td>$330,600,000</td>\n",
       "      <td>$459,005,868</td>\n",
       "      <td>$1,403,013,963</td>\n",
       "    </tr>\n",
       "    <tr>\n",
       "      <th>4</th>\n",
       "      <td>5</td>\n",
       "      <td>Dec 15, 2017</td>\n",
       "      <td>Star Wars Ep. VIII: The Last Jedi</td>\n",
       "      <td>$317,000,000</td>\n",
       "      <td>$620,181,382</td>\n",
       "      <td>$1,316,721,747</td>\n",
       "    </tr>\n",
       "    <tr>\n",
       "      <th>5</th>\n",
       "      <td>6</td>\n",
       "      <td>Dec 18, 2015</td>\n",
       "      <td>Star Wars Ep. VII: The Force Awakens</td>\n",
       "      <td>$306,000,000</td>\n",
       "      <td>$936,662,225</td>\n",
       "      <td>$2,053,311,220</td>\n",
       "    </tr>\n",
       "    <tr>\n",
       "      <th>6</th>\n",
       "      <td>7</td>\n",
       "      <td>Apr 27, 2018</td>\n",
       "      <td>Avengers: Infinity War</td>\n",
       "      <td>$300,000,000</td>\n",
       "      <td>$678,815,482</td>\n",
       "      <td>$2,048,134,200</td>\n",
       "    </tr>\n",
       "    <tr>\n",
       "      <th>7</th>\n",
       "      <td>8</td>\n",
       "      <td>May 24, 2007</td>\n",
       "      <td>Pirates of the Caribbean: At Worldâs End</td>\n",
       "      <td>$300,000,000</td>\n",
       "      <td>$309,420,425</td>\n",
       "      <td>$963,420,425</td>\n",
       "    </tr>\n",
       "    <tr>\n",
       "      <th>8</th>\n",
       "      <td>9</td>\n",
       "      <td>Nov 17, 2017</td>\n",
       "      <td>Justice League</td>\n",
       "      <td>$300,000,000</td>\n",
       "      <td>$229,024,295</td>\n",
       "      <td>$655,945,209</td>\n",
       "    </tr>\n",
       "    <tr>\n",
       "      <th>9</th>\n",
       "      <td>10</td>\n",
       "      <td>Nov 6, 2015</td>\n",
       "      <td>Spectre</td>\n",
       "      <td>$300,000,000</td>\n",
       "      <td>$200,074,175</td>\n",
       "      <td>$879,620,923</td>\n",
       "    </tr>\n",
       "  </tbody>\n",
       "</table>\n",
       "</div>"
      ],
      "text/plain": [
       "   id  release_date                                        movie  \\\n",
       "0   1  Dec 18, 2009                                       Avatar   \n",
       "1   2  May 20, 2011  Pirates of the Caribbean: On Stranger Tides   \n",
       "2   3   Jun 7, 2019                                 Dark Phoenix   \n",
       "3   4   May 1, 2015                      Avengers: Age of Ultron   \n",
       "4   5  Dec 15, 2017            Star Wars Ep. VIII: The Last Jedi   \n",
       "5   6  Dec 18, 2015         Star Wars Ep. VII: The Force Awakens   \n",
       "6   7  Apr 27, 2018                       Avengers: Infinity War   \n",
       "7   8  May 24, 2007   Pirates of the Caribbean: At Worldâs End   \n",
       "8   9  Nov 17, 2017                               Justice League   \n",
       "9  10   Nov 6, 2015                                      Spectre   \n",
       "\n",
       "  production_budget domestic_gross worldwide_gross  \n",
       "0      $425,000,000   $760,507,625  $2,776,345,279  \n",
       "1      $410,600,000   $241,063,875  $1,045,663,875  \n",
       "2      $350,000,000    $42,762,350    $149,762,350  \n",
       "3      $330,600,000   $459,005,868  $1,403,013,963  \n",
       "4      $317,000,000   $620,181,382  $1,316,721,747  \n",
       "5      $306,000,000   $936,662,225  $2,053,311,220  \n",
       "6      $300,000,000   $678,815,482  $2,048,134,200  \n",
       "7      $300,000,000   $309,420,425    $963,420,425  \n",
       "8      $300,000,000   $229,024,295    $655,945,209  \n",
       "9      $300,000,000   $200,074,175    $879,620,923  "
      ]
     },
     "execution_count": 80,
     "metadata": {},
     "output_type": "execute_result"
    }
   ],
   "source": [
    "df_test.head(10)"
   ]
  },
  {
   "cell_type": "code",
   "execution_count": 81,
   "metadata": {
    "ExecuteTime": {
     "end_time": "2021-04-30T18:06:14.279005Z",
     "start_time": "2021-04-30T18:06:14.274357Z"
    }
   },
   "outputs": [],
   "source": [
    "grouped = movie_details_df2.groupby(by = 'Crime').sum()"
   ]
  },
  {
   "cell_type": "code",
   "execution_count": 82,
   "metadata": {
    "ExecuteTime": {
     "end_time": "2021-04-30T18:06:14.827273Z",
     "start_time": "2021-04-30T18:06:14.822509Z"
    }
   },
   "outputs": [
    {
     "data": {
      "text/plain": [
       "2753569061.0"
      ]
     },
     "execution_count": 82,
     "metadata": {},
     "output_type": "execute_result"
    }
   ],
   "source": [
    "grouped.iloc[1][\"worldwide_gross\"]"
   ]
  },
  {
   "cell_type": "code",
   "execution_count": 83,
   "metadata": {
    "ExecuteTime": {
     "end_time": "2021-04-30T18:06:15.386639Z",
     "start_time": "2021-04-30T18:06:15.357106Z"
    }
   },
   "outputs": [],
   "source": [
    "worldwide_gross = {}\n",
    "for genre in all_genres:\n",
    "    grouped = movie_details_df2.groupby(by = \"\".join(genre)).mean()\n",
    "    worldwide_gross[genre] = grouped.iloc[1][\"worldwide_gross\"]"
   ]
  },
  {
   "cell_type": "code",
   "execution_count": null,
   "metadata": {
    "ExecuteTime": {
     "end_time": "2021-04-29T18:33:41.625495Z",
     "start_time": "2021-04-29T18:33:41.617062Z"
    }
   },
   "outputs": [],
   "source": []
  },
  {
   "cell_type": "code",
   "execution_count": 84,
   "metadata": {
    "ExecuteTime": {
     "end_time": "2021-04-30T18:06:15.906077Z",
     "start_time": "2021-04-30T18:06:15.903742Z"
    }
   },
   "outputs": [],
   "source": [
    "worldwide_gross = dict(sorted(worldwide_gross.items(), key = lambda item : item[1], reverse = True))"
   ]
  },
  {
   "cell_type": "code",
   "execution_count": 85,
   "metadata": {
    "ExecuteTime": {
     "end_time": "2021-04-30T18:06:16.427180Z",
     "start_time": "2021-04-30T18:06:16.421480Z"
    }
   },
   "outputs": [
    {
     "data": {
      "text/plain": [
       "{'Crime': 1376784530.5,\n",
       " 'Sci-Fi': 1335618804.75,\n",
       " 'Action': 1280519596.9473684,\n",
       " 'Thriller': 1237133785.25,\n",
       " 'Adventure': 1177740759.5925925,\n",
       " 'Musical': 1142345408.0,\n",
       " 'Fantasy': 1114269141.5,\n",
       " 'Family': 1082515121.0,\n",
       " 'Animation': 1056131138.1,\n",
       " 'Comedy': 1028328686.3,\n",
       " 'Drama': 928919944.5,\n",
       " 'Music': 894985342.0,\n",
       " 'Biography': 894985342.0}"
      ]
     },
     "execution_count": 85,
     "metadata": {},
     "output_type": "execute_result"
    }
   ],
   "source": [
    "worldwide_gross"
   ]
  },
  {
   "cell_type": "code",
   "execution_count": 100,
   "metadata": {
    "ExecuteTime": {
     "end_time": "2021-04-30T18:22:59.970533Z",
     "start_time": "2021-04-30T18:22:59.702003Z"
    }
   },
   "outputs": [
    {
     "data": {
      "image/png": "[encoded data removed]",
      "text/plain": [
       "<Figure size 720x576 with 1 Axes>"
      ]
     },
     "metadata": {
      "needs_background": "light"
     },
     "output_type": "display_data"
    }
   ],
   "source": [
    "plt.figure(figsize=(10,8))\n",
    "enmax_palette = ['#221150', '#5f187f', '#982d80']\n",
    "clrs = [enmax_palette[0] if (x < 1000000000) else enmax_palette[2] for x in worldwide_gross.values() ]\n",
    "sns.barplot(x = list(worldwide_gross.values()), y = list(worldwide_gross.keys()), palette=clrs)\n",
    "plt.xlabel(\"Average worldwide gross per movie\")\n",
    "plt.ylabel(\"Genre\")\n",
    "plt.savefig(\"highest_revenue_per_movie\")"
   ]
  },
  {
   "cell_type": "code",
   "execution_count": 98,
   "metadata": {
    "ExecuteTime": {
     "end_time": "2021-04-30T18:19:41.675550Z",
     "start_time": "2021-04-30T18:19:41.672320Z"
    }
   },
   "outputs": [
    {
     "name": "stdout",
     "output_type": "stream",
     "text": [
      "['#221150', '#5f187f', '#982d80', '#d3436e', '#f8765c', '#febb81']\n"
     ]
    }
   ],
   "source": [
    "pal = sns.color_palette(\"magma\")\n",
    "print(pal.as_hex())"
   ]
  },
  {
   "cell_type": "code",
   "execution_count": 90,
   "metadata": {
    "ExecuteTime": {
     "end_time": "2021-04-30T18:12:06.989400Z",
     "start_time": "2021-04-30T18:12:06.985844Z"
    }
   },
   "outputs": [
    {
     "data": {
      "text/html": [
       "<svg  width=\"330\" height=\"55\"><rect x=\"0\" y=\"0\" width=\"55\" height=\"55\" style=\"fill:#221150;stroke-width:2;stroke:rgb(255,255,255)\"/><rect x=\"55\" y=\"0\" width=\"55\" height=\"55\" style=\"fill:#5f187f;stroke-width:2;stroke:rgb(255,255,255)\"/><rect x=\"110\" y=\"0\" width=\"55\" height=\"55\" style=\"fill:#982d80;stroke-width:2;stroke:rgb(255,255,255)\"/><rect x=\"165\" y=\"0\" width=\"55\" height=\"55\" style=\"fill:#d3436e;stroke-width:2;stroke:rgb(255,255,255)\"/><rect x=\"220\" y=\"0\" width=\"55\" height=\"55\" style=\"fill:#f8765c;stroke-width:2;stroke:rgb(255,255,255)\"/><rect x=\"275\" y=\"0\" width=\"55\" height=\"55\" style=\"fill:#febb81;stroke-width:2;stroke:rgb(255,255,255)\"/></svg>"
      ],
      "text/plain": [
       "['#221150', '#5f187f', '#982d80', '#d3436e', '#f8765c', '#febb81']"
      ]
     },
     "execution_count": 90,
     "metadata": {},
     "output_type": "execute_result"
    }
   ],
   "source": []
  },
  {
   "cell_type": "code",
   "execution_count": null,
   "metadata": {},
   "outputs": [],
   "source": []
  }
 ],
 "metadata": {
  "kernelspec": {
   "display_name": "Python 3",
   "language": "python",
   "name": "python3"
  },
  "language_info": {
   "codemirror_mode": {
    "name": "ipython",
    "version": 3
   },
   "file_extension": ".py",
   "mimetype": "text/x-python",
   "name": "python",
   "nbconvert_exporter": "python",
   "pygments_lexer": "ipython3",
   "version": "3.8.5"
  },
  "toc": {
   "base_numbering": 1,
   "nav_menu": {},
   "number_sections": true,
   "sideBar": true,
   "skip_h1_title": false,
   "title_cell": "Table of Contents",
   "title_sidebar": "Contents",
   "toc_cell": false,
   "toc_position": {
    "height": "calc(100% - 180px)",
    "left": "10px",
    "top": "150px",
    "width": "266.55px"
   },
   "toc_section_display": true,
   "toc_window_display": false
  },
  "varInspector": {
   "cols": {
    "lenName": 16,
    "lenType": 16,
    "lenVar": 40
   },
   "kernels_config": {
    "python": {
     "delete_cmd_postfix": "",
     "delete_cmd_prefix": "del ",
     "library": "var_list.py",
     "varRefreshCmd": "print(var_dic_list())"
    },
    "r": {
     "delete_cmd_postfix": ") ",
     "delete_cmd_prefix": "rm(",
     "library": "var_list.r",
     "varRefreshCmd": "cat(var_dic_list()) "
    }
   },
   "position": {
    "height": "416px",
    "left": "890px",
    "right": "20px",
    "top": "121px",
    "width": "350px"
   },
   "types_to_exclude": [
    "module",
    "function",
    "builtin_function_or_method",
    "instance",
    "_Feature"
   ],
   "window_display": false
  }
 },
 "nbformat": 4,
 "nbformat_minor": 2
}
