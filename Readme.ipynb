{
 "cells": [
  {
   "cell_type": "markdown",
   "metadata": {},
   "source": [
    "# Readme"
   ]
  },
  {
   "cell_type": "markdown",
   "metadata": {},
   "source": [
    "**The format for the readme should be as follows**:\n",
    "\n",
    "* **Goals and Objectives**:\n",
    "    Briefly describe the goal of the project and the datasets you had access to. \n",
    "\n",
    "* **For each question**:\n",
    "    1. Describe the EDA done to get the data, include any table joins performed and any sort of cleaning.\n",
    "    2. Note down any findings/recommendations/future work you may have\n",
    "\n",
    "* Command to convert jupyter notebook to markdown file:\n",
    "    ```jupyter nbconvert --to markdown notebookname.ipynb```\n",
    "    \n",
    "* Resources on markdown syntax in jupyter notebook: \n",
    "    1. https://medium.com/ibm-data-science-experience/markdown-for-jupyter-notebooks-cheatsheet-386c05aeebed\n",
    "    2. https://www.earthdatascience.org/courses/intro-to-earth-data-science/file-formats/use-text-files/format-text-with-markdown-jupyter-notebook/"
   ]
  },
  {
   "cell_type": "markdown",
   "metadata": {},
   "source": [
    "# Most profitable films"
   ]
  },
  {
   "cell_type": "markdown",
   "metadata": {},
   "source": [
    "For exploring this particular thing, I looked at the file ```tn_movie_budgets_gz```. The next step involved was to find the difference between the ```worldwide_gross``` column and the ```production_budget``` column for the entire data. I then sorted the data by the newly created Profit/Loss column and in the interest of keeping my visualization easy to interpret, I only looked at the top 5 films. Here is my resulting visualization"
   ]
  },
  {
   "cell_type": "markdown",
   "metadata": {},
   "source": [
    "![\"Most Profitable Films\"](most_profitable_films.png)"
   ]
  },
  {
   "cell_type": "markdown",
   "metadata": {},
   "source": [
    "# Average Worldwide Gross per movie genre"
   ]
  },
  {
   "cell_type": "markdown",
   "metadata": {},
   "source": [
    "Using our earlier data of top grossing films, we decided we needed to investigate genres as well. We used the ```file``` and this time around we limited our data to eliminate outliers\n",
    "\n",
    "```outlier_elimination_code```\n",
    "\n",
    "The resultant plot looked like this:\n",
    "![\"Revenue per film\"](highest_revenue_per_movie.png)"
   ]
  },
  {
   "cell_type": "code",
   "execution_count": null,
   "metadata": {},
   "outputs": [],
   "source": []
  }
 ],
 "metadata": {
  "kernelspec": {
   "display_name": "Python 3",
   "language": "python",
   "name": "python3"
  },
  "language_info": {
   "codemirror_mode": {
    "name": "ipython",
    "version": 3
   },
   "file_extension": ".py",
   "mimetype": "text/x-python",
   "name": "python",
   "nbconvert_exporter": "python",
   "pygments_lexer": "ipython3",
   "version": "3.8.5"
  },
  "toc": {
   "base_numbering": 1,
   "nav_menu": {},
   "number_sections": true,
   "sideBar": true,
   "skip_h1_title": false,
   "title_cell": "Table of Contents",
   "title_sidebar": "Contents",
   "toc_cell": false,
   "toc_position": {},
   "toc_section_display": true,
   "toc_window_display": false
  },
  "varInspector": {
   "cols": {
    "lenName": 16,
    "lenType": 16,
    "lenVar": 40
   },
   "kernels_config": {
    "python": {
     "delete_cmd_postfix": "",
     "delete_cmd_prefix": "del ",
     "library": "var_list.py",
     "varRefreshCmd": "print(var_dic_list())"
    },
    "r": {
     "delete_cmd_postfix": ") ",
     "delete_cmd_prefix": "rm(",
     "library": "var_list.r",
     "varRefreshCmd": "cat(var_dic_list()) "
    }
   },
   "types_to_exclude": [
    "module",
    "function",
    "builtin_function_or_method",
    "instance",
    "_Feature"
   ],
   "window_display": false
  }
 },
 "nbformat": 4,
 "nbformat_minor": 2
}
